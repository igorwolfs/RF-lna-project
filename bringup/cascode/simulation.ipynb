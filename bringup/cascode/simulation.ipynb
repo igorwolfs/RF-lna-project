{
 "cells": [
  {
   "cell_type": "markdown",
   "metadata": {},
   "source": [
    "# Simulation\n",
    "This notebook will be used to import available S-parameter data from the BFP640 and simulate/verify the LNA behaviour using scikit-RF.\n",
    "The simulation was done after construction, since only then I realized that LTSpice was really not up to this kind-of job."
   ]
  },
  {
   "cell_type": "markdown",
   "metadata": {},
   "source": [
    "### DC Operating point"
   ]
  },
  {
   "cell_type": "code",
   "execution_count": 1,
   "metadata": {},
   "outputs": [
    {
     "name": "stdout",
     "output_type": "stream",
     "text": [
      "VBE - U7 0.36 V, U6 0.24 V, U8 0.28 V\n",
      "VCE - U7 1.32 V, U6 0.76 V, U8 2.56 V\n",
      "IE  - U7 11.06 mA, U6 11.06 mA, U8 11.60 mA\n"
     ]
    }
   ],
   "source": [
    "Vcc = 4.8\n",
    "\n",
    "### Checking DC Operating point (U7)\n",
    "DC_VBase_U7 = 0.88\t\t\t#! SIM VALUE: 1.15 V\n",
    "DC_VEmitter_U7 = 0.52\t\t#! SIM VALUE: 0.36 V\n",
    "DC_VCollector_U7 = 1.84\t\t#! SIM VALUE: 1.54 V\n",
    "DC_IEmitter_U7 = DC_VEmitter_U7 / 47\n",
    "\n",
    "### Checking DC Operating point (U6)\n",
    "DC_VBase_U6 = 2.08\t\t\t#! SIM VALUE: 2.33 V\n",
    "DC_VEmitter_U6 = 1.84\t\t#! SIM VALUE: 1.54 V\n",
    "DC_VCollector_U6 = 2.6\t\t#! SIM VALUE: 1.7 V\n",
    "DC_IEmitter_U6 = DC_IEmitter_U7 # Assumption that Ic = Ie\n",
    "\n",
    "### Checking DC Operating point (U8)\n",
    "DC_VBase_U8 = 2.6\t\t\t#! SIM VALUE: 3.45 V\n",
    "DC_VEmitter_U8 = 2.32\t\t#! SIM VALUE: 2.64 V\n",
    "DC_VCollector_U8 = 4.88\t\t#! SIM VALUE: 5 V\n",
    "DC_IEmitter_U8 = DC_VEmitter_U8 / 200\n",
    "\n",
    "print(f\"VBE - U7 {DC_VBase_U7-DC_VEmitter_U7:.2f} V, U6 {DC_VBase_U6-DC_VEmitter_U6:.2f} V, U8 {DC_VBase_U8-DC_VEmitter_U8:.2f} V\")\n",
    "print(f\"VCE - U7 {DC_VCollector_U7-DC_VEmitter_U7:.2f} V, U6 {DC_VCollector_U6-DC_VEmitter_U6:.2f} V, U8 {DC_VCollector_U8-DC_VEmitter_U8:.2f} V\")\n",
    "print(f\"IE  - U7 {DC_IEmitter_U7*1000:.2f} mA, U6 {DC_IEmitter_U6*1000:.2f} mA, U8 {DC_IEmitter_U8*1000:.2f} mA\")"
   ]
  },
  {
   "cell_type": "code",
   "execution_count": 10,
   "metadata": {},
   "outputs": [
    {
     "name": "stdout",
     "output_type": "stream",
     "text": [
      "list directory: ['BFP640_w_noise_VCE_1.0V_IC_40mA.s2p', 'BFP640_w_noise_VCE_3.0V_IC_12mA.s2p', 'BFP640_w_noise_VCE_3.5V_IC_30mA.s2p', 'BFP640_VCE_3.0V_IC_48mA.s2p', 'BFP640_w_noise_VCE_1.0V_IC_20mA.s2p', 'BFP640_w_noise_VCE_4.0V_IC_6.0mA.s2p', 'BFP640_VCE_1.0V_IC_32mA.s2p', 'BFP640_w_noise_VCE_2.5V_IC_8.0mA.s2p', 'BFP640_w_noise_VCE_1.0V_IC_5.0mA.s2p', 'BFP640_w_noise_VCE_3.0V_IC_15mA.s2p', 'BFP640_VCE_3.0V_IC_18mA.s2p', 'BFP640_VCE_2.5V_IC_28mA.s2p', 'BFP640_w_noise_VCE_2.0V_IC_40mA.s2p', 'BFP640_VCE_1.0V_IC_37mA.s2p', 'BFP640_w_noise_VCE_4.0V_IC_35mA.s2p', 'BFP640_w_noise_VCE_2.5V_IC_2.0mA.s2p', 'BFP640_w_noise_VCE_3.0V_IC_2.0mA.s2p', 'BFP640_VCE_3.5V_IC_50mA.s2p', 'BFP640_VCE_1.5V_IC_18mA.s2p', 'BFP640_w_noise_VCE_4.0V_IC_1.0mA.s2p', 'BFP640_w_noise_VCE_3.5V_IC_45mA.s2p', 'BFP640_w_noise_VCE_2.5V_IC_10mA.s2p', 'BFP640_VCE_3.5V_IC_18mA.s2p', 'BFP640_w_noise_VCE_4.0V_IC_4.0mA.s2p', 'BFP640_VCE_2.5V_IC_32mA.s2p', 'BFP640_w_noise_VCE_1.0V_IC_15mA.s2p', 'BFP640_w_noise_VCE_1.5V_IC_6.0mA.s2p', 'BFP640_VCE_1.0V_IC_42mA.s2p', 'BFP640_VCE_4.0V_IC_50mA.s2p', 'BFP640_w_noise_VCE_3.5V_IC_8.0mA.s2p', 'BFP640_w_noise_VCE_1.0V_IC_35mA.s2p', 'BFP640_VCE_3.5V_IC_32mA.s2p', 'BFP640_w_noise_VCE_4.0V_IC_40mA.s2p', 'BFP640_VCE_3.0V_IC_32mA.s2p', 'BFP640_w_noise_VCE_2.5V_IC_4.0mA.s2p', 'BFP640_VCE_4.0V_IC_28mA.s2p', 'BFP640_w_noise_VCE_2.0V_IC_35mA.s2p', 'BFP640_w_noise_VCE_3.0V_IC_6.0mA.s2p', 'BFP640_w_noise_VCE_4.0V_IC_15mA.s2p', 'BFP640_VCE_3.0V_IC_22mA.s2p', 'BFP640_w_noise_VCE_2.0V_IC_25mA.s2p', 'BFP640_w_noise_VCE_3.0V_IC_10mA.s2p', 'BFP640_w_noise_VCE_1.0V_IC_25mA.s2p', 'BFP640_VCE_2.5V_IC_18mA.s2p', 'BFP640_w_noise_VCE_2.0V_IC_1.0mA.s2p', 'BFP640_w_noise_VCE_1.0V_IC_30mA.s2p', 'BFP640_w_noise_VCE_3.5V_IC_20mA.s2p', 'BFP640_w_noise_VCE_1.0V_IC_4.0mA.s2p', 'BFP640_w_noise_VCE_3.0V_IC_40mA.s2p', 'BFP640_w_noise_VCE_2.5V_IC_30mA.s2p', 'BFP640_w_noise_VCE_3.5V_IC_35mA.s2p', 'BFP640_VCE_3.0V_IC_28mA.s2p', 'BFP640_w_noise_VCE_2.0V_IC_2.0mA.s2p', 'BFP640_VCE_1.5V_IC_32mA.s2p', 'BFP640_VCE_3.5V_IC_37mA.s2p', 'BFP640_w_noise_VCE_1.5V_IC_5.0mA.s2p', 'BFP640_w_noise_VCE_1.0V_IC_12mA.s2p', 'BFP640_VCE_2.5V_IC_42mA.s2p', 'BFP640_w_noise_VCE_4.0V_IC_8.0mA.s2p', 'BFP640_w_noise_VCE_3.0V_IC_25mA.s2p', 'BFP640_VCE_2.5V_IC_48mA.s2p', 'BFP640_w_noise_VCE_1.0V_IC_10mA.s2p', 'BFP640_w_noise_VCE_2.5V_IC_1.0mA.s2p', 'BFP640_w_noise_VCE_4.0V_IC_2.0mA.s2p', 'BFP640_VCE_2.0V_IC_22mA.s2p', 'BFP640_VCE_3.5V_IC_22mA.s2p', 'BFP640_w_noise_VCE_4.0V_IC_10mA.s2p', 'BFP640_VCE_2.0V_IC_42mA.s2p', 'BFP640_w_noise_VCE_4.0V_IC_20mA.s2p', 'BFP640_VCE_1.0V_IC_48mA.s2p', 'BFP640_w_noise_VCE_1.5V_IC_20mA.s2p', 'BFP640_w_noise_VCE_2.5V_IC_25mA.s2p', 'BFP640_w_noise_VCE_1.5V_IC_15mA.s2p', 'BFP640_w_noise_VCE_4.0V_IC_45mA.s2p', 'BFP640_VCE_4.0V_IC_32mA.s2p', 'BFP640_w_noise_VCE_2.0V_IC_15mA.s2p', 'BFP640_VCE_1.5V_IC_42mA.s2p', 'BFP640_w_noise_VCE_2.5V_IC_35mA.s2p', 'BFP640_VCE_3.0V_IC_42mA.s2p', 'BFP640_VCE_1.0V_IC_28mA.s2p', 'BFP640_VCE_4.0V_IC_37mA.s2p', 'BFP640_VCE_2.0V_IC_18mA.s2p', 'BFP640_w_noise_VCE_2.5V_IC_45mA.s2p', 'BFP640_w_noise_VCE_2.0V_IC_5.0mA.s2p', 'BFP640_w_noise_VCE_3.5V_IC_12mA.s2p', 'BFP640_VCE_1.0V_IC_22mA.s2p', 'BFP640_w_noise_VCE_4.0V_IC_25mA.s2p', 'BFP640_w_noise_VCE_4.0V_IC_30mA.s2p', 'BFP640_w_noise_VCE_3.0V_IC_8.0mA.s2p', 'BFP640_w_noise_VCE_4.0V_IC_12mA.s2p', 'BFP640_w_noise_VCE_3.5V_IC_25mA.s2p', 'BFP640_VCE_2.5V_IC_37mA.s2p', 'BFP640_w_noise_VCE_2.0V_IC_12mA.s2p', 'BFP640_w_noise_VCE_2.0V_IC_8.0mA.s2p', 'BFP640_w_noise_VCE_2.0V_IC_45mA.s2p', 'BFP640_VCE_2.0V_IC_37mA.s2p', 'BFP640_VCE_2.5V_IC_22mA.s2p', 'BFP640_w_noise_VCE_2.5V_IC_15mA.s2p', 'BFP640_VCE_4.0V_IC_22mA.s2p', 'BFP640_w_noise_VCE_3.0V_IC_4.0mA.s2p', 'BFP640_w_noise_VCE_3.0V_IC_35mA.s2p', 'BFP640_w_noise_VCE_1.5V_IC_45mA.s2p', 'BFP640_w_noise_VCE_3.5V_IC_4.0mA.s2p', 'BFP640_VCE_1.5V_IC_48mA.s2p', 'BFP640_w_noise_VCE_1.5V_IC_25mA.s2p', 'BFP640_VCE_3.0V_IC_37mA.s2p', 'BFP640_w_noise_VCE_1.5V_IC_8.0mA.s2p', 'BFP640_w_noise_VCE_3.0V_IC_45mA.s2p', 'BFP640_w_noise_VCE_3.0V_IC_30mA.s2p', 'BFP640_w_noise_VCE_1.5V_IC_1.0mA.s2p', 'BFP640_w_noise_VCE_3.0V_IC_5.0mA.s2p', 'BFP640_w_noise_VCE_2.5V_IC_12mA.s2p', 'BFP640_w_noise_VCE_1.5V_IC_2.0mA.s2p', 'BFP640_w_noise_VCE_3.5V_IC_2.0mA.s2p', 'BFP640_VCE_2.0V_IC_28mA.s2p', 'BFP640_VCE_2.0V_IC_50mA.s2p', 'BFP640_VCE_3.0V_IC_50mA.s2p', 'BFP640_w_noise_VCE_3.5V_IC_15mA.s2p', 'BFP640_VCE_3.5V_IC_28mA.s2p', 'BFP640_w_noise_VCE_3.5V_IC_5.0mA.s2p', 'BFP640_VCE_1.5V_IC_28mA.s2p', 'BFP640_w_noise_VCE_4.0V_IC_5.0mA.s2p', 'BFP640_w_noise_VCE_2.5V_IC_6.0mA.s2p', 'BFP640_w_noise_VCE_3.5V_IC_1.0mA.s2p', 'BFP640_w_noise_VCE_1.5V_IC_40mA.s2p', 'BFP640_w_noise_VCE_3.0V_IC_1.0mA.s2p', 'BFP640_w_noise_VCE_1.5V_IC_30mA.s2p', 'BFP640_VCE_3.5V_IC_42mA.s2p', 'BFP640_w_noise_VCE_2.5V_IC_5.0mA.s2p', 'BFP640_w_noise_VCE_1.5V_IC_12mA.s2p', 'BFP640_w_noise_VCE_3.5V_IC_6.0mA.s2p', 'BFP640_w_noise_VCE_1.0V_IC_6.0mA.s2p', 'BFP640_w_noise_VCE_1.0V_IC_2.0mA.s2p', 'BFP640_w_noise_VCE_3.0V_IC_20mA.s2p', 'BFP640_w_noise_VCE_2.0V_IC_6.0mA.s2p', 'BFP640_w_noise_VCE_3.5V_IC_10mA.s2p', 'BFP640_VCE_1.5V_IC_50mA.s2p', 'BFP640_VCE_2.0V_IC_32mA.s2p', 'BFP640_w_noise_VCE_3.5V_IC_40mA.s2p', 'BFP640_VCE_4.0V_IC_18mA.s2p', 'BFP640_w_noise_VCE_2.0V_IC_4.0mA.s2p', 'BFP640_w_noise_VCE_1.5V_IC_10mA.s2p', 'BFP640_VCE_1.0V_IC_18mA.s2p', 'BFP640_w_noise_VCE_2.0V_IC_10mA.s2p', 'BFP640_VCE_2.0V_IC_48mA.s2p', 'BFP640_w_noise_VCE_1.0V_IC_1.0mA.s2p', 'BFP640_VCE_3.5V_IC_48mA.s2p', 'BFP640_w_noise_VCE_1.5V_IC_4.0mA.s2p', 'BFP640_w_noise_VCE_1.0V_IC_45mA.s2p', 'BFP640_w_noise_VCE_2.5V_IC_40mA.s2p', 'BFP640_VCE_2.5V_IC_50mA.s2p', 'BFP640_VCE_4.0V_IC_42mA.s2p', 'BFP640_VCE_4.0V_IC_48mA.s2p', 'BFP640_VCE_1.5V_IC_22mA.s2p', 'BFP640_VCE_1.5V_IC_37mA.s2p', 'BFP640_w_noise_VCE_2.0V_IC_20mA.s2p', 'BFP640_w_noise_VCE_2.5V_IC_20mA.s2p', 'BFP640_VCE_1.0V_IC_50mA.s2p', 'BFP640_w_noise_VCE_2.0V_IC_30mA.s2p', 'BFP640_w_noise_VCE_1.5V_IC_35mA.s2p', 'BFP640_w_noise_VCE_1.0V_IC_8.0mA.s2p']\n",
      "Loaded 161 s2p files into the dictionary.\n"
     ]
    }
   ],
   "source": [
    "import os\n",
    "import re\n",
    "import skrf as rf\n",
    "\n",
    "# Directory containing your S2P files. Adjust as needed.\n",
    "DATA_DIR = '/home/iwolfs/Work/Projects/rf_lna_project/other/s_params/SPAR/BFP640'\n",
    "print(f\"list directory: {os.listdir(DATA_DIR)}\")\n",
    "# Regex pattern to parse filenames like:\n",
    "#  \"BFP640_VCE_1.0V_IC_18mA.s2p\"\n",
    "#  \"BFP640_w_noise_VCE_3.5V_IC_20mA.s2p\"\n",
    "# Explanation:\n",
    "#   ^BFP640          match \"BFP640\" at start\n",
    "#   (_w_noise)?      optionally match \"_w_noise\"\n",
    "#   _VCE_           match literal\n",
    "#   ([\\d\\.]+)V      capture group for VCE (one or more digits or '.'), ends with 'V'\n",
    "#   _IC_            match literal\n",
    "#   ([\\d\\.]+)mA     capture group for IC (similarly digits or '.')\n",
    "#   \\.s2p$          end with \".s2p\"\n",
    "pattern = re.compile(\n",
    "    r'^BFP640(_w_noise)?_VCE_([\\d\\.]+)V_IC_([\\d\\.]+)mA\\.s2p$',\n",
    "    re.IGNORECASE\n",
    ")\n",
    "\n",
    "# Dictionary to store the data\n",
    "# We'll use a tuple key: (VCE_float, IC_float, noise_bool)\n",
    "# Each value is the corresponding rf.Network\n",
    "networks = {}\n",
    "\n",
    "# Iterate over all files in the directory\n",
    "for fname in os.listdir(DATA_DIR):\n",
    "    # Only consider .s2p files\n",
    "    if not fname.lower().endswith('.s2p'):\n",
    "        continue\n",
    "\n",
    "    match = pattern.match(fname)\n",
    "    if match:\n",
    "        noise_str, vce_str, ic_str = match.groups()\n",
    "        # Convert text to numeric\n",
    "        vce_val = float(vce_str)\n",
    "        ic_val = float(ic_str)\n",
    "        # noise_bool = (noise_str is not None)  # True if \"_w_noise\" was present\n",
    "\n",
    "        # Load the network\n",
    "        full_path = os.path.join(DATA_DIR, fname)\n",
    "        ntwk = rf.Network(full_path)\n",
    "\n",
    "        # Store it in the dictionary\n",
    "        # Key: (VCE, IC, noise_flag)\n",
    "        # networks[(vce_val, ic_val, noise_bool)] = ntwk\n",
    "        networks[(vce_val, ic_val)] = ntwk\n",
    "\n",
    "print(f\"Loaded {len(networks)} s2p files into the dictionary.\")"
   ]
  },
  {
   "cell_type": "markdown",
   "metadata": {},
   "source": [
    "### Circuit design"
   ]
  },
  {
   "cell_type": "code",
   "execution_count": null,
   "metadata": {},
   "outputs": [],
   "source": [
    "import skrf as rf\n",
    "import numpy as np\n",
    "from skrf.media import MLine, CPW, DefinedGammaZ0\n",
    "from skrf.circuit import Circuit, Circuit_3port, Network\n",
    "Z0 = 50\n",
    "# Create line for microstrip lines and components\n",
    "line = DefinedGammaZ0(freq, z0=Z0)\n",
    "\n",
    "# Create passive components\n",
    "# Inductors\n",
    "L5 = line.inductor(160e-9, name='L5')  # 160nH\n",
    "L6 = line.inductor(160e-9, name='L6')  # 160nH\n",
    "L13 = line.inductor(160e-9, name='L13')  # 160nH\n",
    "L12 = line.inductor(160e-9, name='L12')  # 160nH\n",
    "L9 = line.inductor(160e-9, name='L9')   # 160nH\n",
    "\n",
    "# Capacitors\n",
    "C17 = line.capacitor(100e-12, name='C17')  # 100pF\n",
    "C7 = line.capacitor(100e-12, name='C7')   # 100pF\n",
    "\n",
    "# Resistors\n",
    "R10 = line.resistor(2.2e3, name='R10')  # 2.2kΩ\n",
    "R11 = line.resistor(1e3, name='R11')    # 1kΩ\n",
    "R12 = line.resistor(1e3, name='R12')    # 1kΩ\n",
    "R13 = line.resistor(200, name='R13')    # 200Ω\n",
    "R14 = line.resistor(0, name='R14')      # 0Ω\n",
    "R15 = line.resistor(47, name='R15')     # 47Ω\n",
    "R16 = line.resistor(200, name='R16')    # 200Ω\n",
    "\n",
    "# Impedances/Transmission lines\n",
    "Z1 = line.short(name='Z1').add_z0_at_ports([3.6])  # 3.6pF transmission line\n",
    "Z2 = line.short(name='Z2').add_z0_at_ports([1])    # 1pF transmission line\n",
    "Z3 = line.open(name='Z3')                          # DNP (Do Not Place)\n",
    "Z4 = line.short(name='Z4').add_z0_at_ports([3.6])  # 3.6pF transmission line\n",
    "Z5 = line.short(name='Z5').add_z0_at_ports([3.6])  # 3.6pF transmission line\n",
    "Z6 = line.inductor(15e-9, name='Z6')               # 15nH (DNP)\n",
    "Z7 = line.open(name='Z7')                          # DNP\n",
    "Z20 = line.short(name='Z20').add_z0_at_ports([20]) # 20nH transmission line\n",
    "\n",
    "# Create placeholder transistors\n",
    "U6 = rf.Circuit('U6_BFP640', freq)\n",
    "U7 = rf.Circuit('U7_BFP640', freq)\n",
    "U8 = rf.Circuit('U8_BFP640', freq)"
   ]
  },
  {
   "cell_type": "markdown",
   "metadata": {},
   "source": []
  }
 ],
 "metadata": {
  "kernelspec": {
   "display_name": "pyenv",
   "language": "python",
   "name": "python3"
  },
  "language_info": {
   "codemirror_mode": {
    "name": "ipython",
    "version": 3
   },
   "file_extension": ".py",
   "mimetype": "text/x-python",
   "name": "python",
   "nbconvert_exporter": "python",
   "pygments_lexer": "ipython3",
   "version": "3.12.3"
  }
 },
 "nbformat": 4,
 "nbformat_minor": 2
}
