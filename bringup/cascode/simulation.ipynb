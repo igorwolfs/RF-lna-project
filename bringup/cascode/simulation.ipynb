{
 "cells": [
  {
   "cell_type": "markdown",
   "metadata": {},
   "source": [
    "# Simulation\n",
    "This notebook will be used to import available S-parameter data from the BFP640 and simulate/verify the LNA behaviour using scikit-RF.\n",
    "The simulation was done after construction, since only then I realized that LTSpice was really not up to this kind-of job."
   ]
  },
  {
   "cell_type": "markdown",
   "metadata": {},
   "source": [
    "### DC Operating point"
   ]
  },
  {
   "cell_type": "code",
   "execution_count": 2,
   "metadata": {},
   "outputs": [
    {
     "name": "stdout",
     "output_type": "stream",
     "text": [
      "Loading files from: /home/iwolfs/Work/Projects/rf_lna_project/other/s_params/SPAR/BFP640\n",
      "list directory: ['BFP640_w_noise_VCE_1.0V_IC_40mA.s2p', 'BFP640_w_noise_VCE_3.0V_IC_12mA.s2p', 'BFP640_w_noise_VCE_3.5V_IC_30mA.s2p', 'BFP640_VCE_3.0V_IC_48mA.s2p', 'BFP640_w_noise_VCE_1.0V_IC_20mA.s2p', 'BFP640_w_noise_VCE_4.0V_IC_6.0mA.s2p', 'BFP640_VCE_1.0V_IC_32mA.s2p', 'BFP640_w_noise_VCE_2.5V_IC_8.0mA.s2p', 'BFP640_w_noise_VCE_1.0V_IC_5.0mA.s2p', 'BFP640_w_noise_VCE_3.0V_IC_15mA.s2p', 'BFP640_VCE_3.0V_IC_18mA.s2p', 'BFP640_VCE_2.5V_IC_28mA.s2p', 'BFP640_w_noise_VCE_2.0V_IC_40mA.s2p', 'BFP640_VCE_1.0V_IC_37mA.s2p', 'BFP640_w_noise_VCE_4.0V_IC_35mA.s2p', 'BFP640_w_noise_VCE_2.5V_IC_2.0mA.s2p', 'BFP640_w_noise_VCE_3.0V_IC_2.0mA.s2p', 'BFP640_VCE_3.5V_IC_50mA.s2p', 'BFP640_VCE_1.5V_IC_18mA.s2p', 'BFP640_w_noise_VCE_4.0V_IC_1.0mA.s2p', 'BFP640_w_noise_VCE_3.5V_IC_45mA.s2p', 'BFP640_w_noise_VCE_2.5V_IC_10mA.s2p', 'BFP640_VCE_3.5V_IC_18mA.s2p', 'BFP640_w_noise_VCE_4.0V_IC_4.0mA.s2p', 'BFP640_VCE_2.5V_IC_32mA.s2p', 'BFP640_w_noise_VCE_1.0V_IC_15mA.s2p', 'BFP640_w_noise_VCE_1.5V_IC_6.0mA.s2p', 'BFP640_VCE_1.0V_IC_42mA.s2p', 'BFP640_VCE_4.0V_IC_50mA.s2p', 'BFP640_w_noise_VCE_3.5V_IC_8.0mA.s2p', 'BFP640_w_noise_VCE_1.0V_IC_35mA.s2p', 'BFP640_VCE_3.5V_IC_32mA.s2p', 'BFP640_w_noise_VCE_4.0V_IC_40mA.s2p', 'BFP640_VCE_3.0V_IC_32mA.s2p', 'BFP640_w_noise_VCE_2.5V_IC_4.0mA.s2p', 'BFP640_VCE_4.0V_IC_28mA.s2p', 'BFP640_w_noise_VCE_2.0V_IC_35mA.s2p', 'BFP640_w_noise_VCE_3.0V_IC_6.0mA.s2p', 'BFP640_w_noise_VCE_4.0V_IC_15mA.s2p', 'BFP640_VCE_3.0V_IC_22mA.s2p', 'BFP640_w_noise_VCE_2.0V_IC_25mA.s2p', 'BFP640_w_noise_VCE_3.0V_IC_10mA.s2p', 'BFP640_w_noise_VCE_1.0V_IC_25mA.s2p', 'BFP640_VCE_2.5V_IC_18mA.s2p', 'BFP640_w_noise_VCE_2.0V_IC_1.0mA.s2p', 'BFP640_w_noise_VCE_1.0V_IC_30mA.s2p', 'BFP640_w_noise_VCE_3.5V_IC_20mA.s2p', 'BFP640_w_noise_VCE_1.0V_IC_4.0mA.s2p', 'BFP640_w_noise_VCE_3.0V_IC_40mA.s2p', 'BFP640_w_noise_VCE_2.5V_IC_30mA.s2p', 'BFP640_w_noise_VCE_3.5V_IC_35mA.s2p', 'BFP640_VCE_3.0V_IC_28mA.s2p', 'BFP640_w_noise_VCE_2.0V_IC_2.0mA.s2p', 'BFP640_VCE_1.5V_IC_32mA.s2p', 'BFP640_VCE_3.5V_IC_37mA.s2p', 'BFP640_w_noise_VCE_1.5V_IC_5.0mA.s2p', 'BFP640_w_noise_VCE_1.0V_IC_12mA.s2p', 'BFP640_VCE_2.5V_IC_42mA.s2p', 'BFP640_w_noise_VCE_4.0V_IC_8.0mA.s2p', 'BFP640_w_noise_VCE_3.0V_IC_25mA.s2p', 'BFP640_VCE_2.5V_IC_48mA.s2p', 'BFP640_w_noise_VCE_1.0V_IC_10mA.s2p', 'BFP640_w_noise_VCE_2.5V_IC_1.0mA.s2p', 'BFP640_w_noise_VCE_4.0V_IC_2.0mA.s2p', 'BFP640_VCE_2.0V_IC_22mA.s2p', 'BFP640_VCE_3.5V_IC_22mA.s2p', 'BFP640_w_noise_VCE_4.0V_IC_10mA.s2p', 'BFP640_VCE_2.0V_IC_42mA.s2p', 'BFP640_w_noise_VCE_4.0V_IC_20mA.s2p', 'BFP640_VCE_1.0V_IC_48mA.s2p', 'BFP640_w_noise_VCE_1.5V_IC_20mA.s2p', 'BFP640_w_noise_VCE_2.5V_IC_25mA.s2p', 'BFP640_w_noise_VCE_1.5V_IC_15mA.s2p', 'BFP640_w_noise_VCE_4.0V_IC_45mA.s2p', 'BFP640_VCE_4.0V_IC_32mA.s2p', 'BFP640_w_noise_VCE_2.0V_IC_15mA.s2p', 'BFP640_VCE_1.5V_IC_42mA.s2p', 'BFP640_w_noise_VCE_2.5V_IC_35mA.s2p', 'BFP640_VCE_3.0V_IC_42mA.s2p', 'BFP640_VCE_1.0V_IC_28mA.s2p', 'BFP640_VCE_4.0V_IC_37mA.s2p', 'BFP640_VCE_2.0V_IC_18mA.s2p', 'BFP640_w_noise_VCE_2.5V_IC_45mA.s2p', 'BFP640_w_noise_VCE_2.0V_IC_5.0mA.s2p', 'BFP640_w_noise_VCE_3.5V_IC_12mA.s2p', 'BFP640_VCE_1.0V_IC_22mA.s2p', 'BFP640_w_noise_VCE_4.0V_IC_25mA.s2p', 'BFP640_w_noise_VCE_4.0V_IC_30mA.s2p', 'BFP640_w_noise_VCE_3.0V_IC_8.0mA.s2p', 'BFP640_w_noise_VCE_4.0V_IC_12mA.s2p', 'BFP640_w_noise_VCE_3.5V_IC_25mA.s2p', 'BFP640_VCE_2.5V_IC_37mA.s2p', 'BFP640_w_noise_VCE_2.0V_IC_12mA.s2p', 'BFP640_w_noise_VCE_2.0V_IC_8.0mA.s2p', 'BFP640_w_noise_VCE_2.0V_IC_45mA.s2p', 'BFP640_VCE_2.0V_IC_37mA.s2p', 'BFP640_VCE_2.5V_IC_22mA.s2p', 'BFP640_w_noise_VCE_2.5V_IC_15mA.s2p', 'BFP640_VCE_4.0V_IC_22mA.s2p', 'BFP640_w_noise_VCE_3.0V_IC_4.0mA.s2p', 'BFP640_w_noise_VCE_3.0V_IC_35mA.s2p', 'BFP640_w_noise_VCE_1.5V_IC_45mA.s2p', 'BFP640_w_noise_VCE_3.5V_IC_4.0mA.s2p', 'BFP640_VCE_1.5V_IC_48mA.s2p', 'BFP640_w_noise_VCE_1.5V_IC_25mA.s2p', 'BFP640_VCE_3.0V_IC_37mA.s2p', 'BFP640_w_noise_VCE_1.5V_IC_8.0mA.s2p', 'BFP640_w_noise_VCE_3.0V_IC_45mA.s2p', 'BFP640_w_noise_VCE_3.0V_IC_30mA.s2p', 'BFP640_w_noise_VCE_1.5V_IC_1.0mA.s2p', 'BFP640_w_noise_VCE_3.0V_IC_5.0mA.s2p', 'BFP640_w_noise_VCE_2.5V_IC_12mA.s2p', 'BFP640_w_noise_VCE_1.5V_IC_2.0mA.s2p', 'BFP640_w_noise_VCE_3.5V_IC_2.0mA.s2p', 'BFP640_VCE_2.0V_IC_28mA.s2p', 'BFP640_VCE_2.0V_IC_50mA.s2p', 'BFP640_VCE_3.0V_IC_50mA.s2p', 'BFP640_w_noise_VCE_3.5V_IC_15mA.s2p', 'BFP640_VCE_3.5V_IC_28mA.s2p', 'BFP640_w_noise_VCE_3.5V_IC_5.0mA.s2p', 'BFP640_VCE_1.5V_IC_28mA.s2p', 'BFP640_w_noise_VCE_4.0V_IC_5.0mA.s2p', 'BFP640_w_noise_VCE_2.5V_IC_6.0mA.s2p', 'BFP640_w_noise_VCE_3.5V_IC_1.0mA.s2p', 'BFP640_w_noise_VCE_1.5V_IC_40mA.s2p', 'BFP640_w_noise_VCE_3.0V_IC_1.0mA.s2p', 'BFP640_w_noise_VCE_1.5V_IC_30mA.s2p', 'BFP640_VCE_3.5V_IC_42mA.s2p', 'BFP640_w_noise_VCE_2.5V_IC_5.0mA.s2p', 'BFP640_w_noise_VCE_1.5V_IC_12mA.s2p', 'BFP640_w_noise_VCE_3.5V_IC_6.0mA.s2p', 'BFP640_w_noise_VCE_1.0V_IC_6.0mA.s2p', 'BFP640_w_noise_VCE_1.0V_IC_2.0mA.s2p', 'BFP640_w_noise_VCE_3.0V_IC_20mA.s2p', 'BFP640_w_noise_VCE_2.0V_IC_6.0mA.s2p', 'BFP640_w_noise_VCE_3.5V_IC_10mA.s2p', 'BFP640_VCE_1.5V_IC_50mA.s2p', 'BFP640_VCE_2.0V_IC_32mA.s2p', 'BFP640_w_noise_VCE_3.5V_IC_40mA.s2p', 'BFP640_VCE_4.0V_IC_18mA.s2p', 'BFP640_w_noise_VCE_2.0V_IC_4.0mA.s2p', 'BFP640_w_noise_VCE_1.5V_IC_10mA.s2p', 'BFP640_VCE_1.0V_IC_18mA.s2p', 'BFP640_w_noise_VCE_2.0V_IC_10mA.s2p', 'BFP640_VCE_2.0V_IC_48mA.s2p', 'BFP640_w_noise_VCE_1.0V_IC_1.0mA.s2p', 'BFP640_VCE_3.5V_IC_48mA.s2p', 'BFP640_w_noise_VCE_1.5V_IC_4.0mA.s2p', 'BFP640_w_noise_VCE_1.0V_IC_45mA.s2p', 'BFP640_w_noise_VCE_2.5V_IC_40mA.s2p', 'BFP640_VCE_2.5V_IC_50mA.s2p', 'BFP640_VCE_4.0V_IC_42mA.s2p', 'BFP640_VCE_4.0V_IC_48mA.s2p', 'BFP640_VCE_1.5V_IC_22mA.s2p', 'BFP640_VCE_1.5V_IC_37mA.s2p', 'BFP640_w_noise_VCE_2.0V_IC_20mA.s2p', 'BFP640_w_noise_VCE_2.5V_IC_20mA.s2p', 'BFP640_VCE_1.0V_IC_50mA.s2p', 'BFP640_w_noise_VCE_2.0V_IC_30mA.s2p', 'BFP640_w_noise_VCE_1.5V_IC_35mA.s2p', 'BFP640_w_noise_VCE_1.0V_IC_8.0mA.s2p']\n",
      "Loaded 161 networks.\n"
     ]
    }
   ],
   "source": [
    "\n",
    "import sys\n",
    "sys.path.insert(0,'../python_libs')\n",
    "\n",
    "from rf_simulations import load_s2p_files\n",
    "\n",
    "# DATA DIR\n",
    "DATA_DIR = '/home/iwolfs/Work/Projects/rf_lna_project/other/s_params/SPAR/BFP640'\n",
    "networks = load_s2p_files(DATA_DIR)\n",
    "print(f\"Loaded {len(networks)} networks.\")\n"
   ]
  },
  {
   "cell_type": "code",
   "execution_count": 9,
   "metadata": {},
   "outputs": [
    {
     "name": "stdout",
     "output_type": "stream",
     "text": [
      "corners: [(1.0, 10.0, 1), (1.0, 12.0, 1), (1.5, 10.0, 1), (1.5, 12.0, 1)]\n"
     ]
    }
   ],
   "source": [
    "import sys\n",
    "sys.path.insert(0,'../python_libs')\n",
    "from rf_simulations import interpolate_2d_network, convert_to_3port_with_grounded_emitter, find_bounding_networks\n",
    "from rf_plots import show_filtered_networks\n",
    "\n",
    "### Checking DC Operating point (U7)\n",
    "DC_VBase_U7 = 0.88\t\t\t#! SIM VALUE: 1.15 V\n",
    "DC_VEmitter_U7 = 0.52\t\t#! SIM VALUE: 0.36 V\n",
    "DC_VCollector_U7 = 1.84\t\t#! SIM VALUE: 1.54 V\n",
    "DC_IEmitter_U7 = DC_VEmitter_U7 / 47\n",
    "DC_ICollector_U7 = DC_IEmitter_U7\n",
    "DC_Vce_U7 = DC_VCollector_U7-DC_VEmitter_U7\n",
    "DC_IEmitter_U7_mA = DC_IEmitter_U7 * 1000\n",
    "\n",
    "### U7\n",
    "filtered_networks_U7 = find_bounding_networks(\n",
    "\tnetworks,\n",
    "\tvce_target=DC_Vce_U7,\n",
    "\tic_target=DC_IEmitter_U7_mA)\n",
    "U7 = interpolate_2d_network(filtered_networks_U7, DC_Vce_U7, DC_IEmitter_U7_mA, interp_kind='linear')\n",
    "U7_3p_ce = convert_to_3port_with_grounded_emitter(U7)"
   ]
  },
  {
   "cell_type": "markdown",
   "metadata": {},
   "source": [
    "### Issue\n",
    "The issue with U8 and U6 is that U8 is in a common-collector, while U6 is in common-base configuration. So in order to transform our common-emitter data to the desired configuration [we'd need to](../../resources/Lecture-8-Three-port-S-Parameter-design-techniques.pdf) \n",
    "1. Turn the transistors into a 3-port model\n",
    "\t- Ground the emitter \n",
    "2. Swap the ports (Emitter S-parameters to Collector s-parameters). Port 1 is the input, port 2 is the output, port 3 is the ground-port in each of the images.\n",
    "\t- For common emitter (original):\n",
    "\n",
    "\t\t![alt text](data/common_emitter.png \"Title\")\n",
    "\n",
    "\t- For common collector:\n",
    "\n",
    "\t\t![alt text](data/common_collector.png \"Title\")\n",
    "\n",
    "\t- For common base:\n",
    "\n",
    "\t\t![alt text](data/common_base.png \"Title\")\n",
    "3. Insert the transistors into the circuit (Taking into account the changed port order!)"
   ]
  },
  {
   "cell_type": "code",
   "execution_count": 5,
   "metadata": {},
   "outputs": [
    {
     "name": "stdout",
     "output_type": "stream",
     "text": [
      "IEmitter: 39.14893617021277\n",
      "corners: [(1.0, 37.0, 0), (1.0, 40.0, 1)]\n"
     ]
    }
   ],
   "source": [
    "import sys\n",
    "sys.path.insert(0,'../python_libs')\n",
    "from rf_simulations import convert_common_emitter_to_common_collector_3port, interpolate_2d_network, convert_to_3port_with_grounded_emitter\n",
    "\n",
    "### Checking DC Operating point (U6)\n",
    "DC_VBase_U6 = 2.08\t\t\t#! SIM VALUE: 2.33 V\n",
    "DC_VEmitter_U6 = 1.84\t\t#! SIM VALUE: 1.54 V\n",
    "DC_VCollector_U6 = 2.6\t\t#! SIM VALUE: 1.7 V\n",
    "DC_IEmitter_U6 = DC_VEmitter_U6 / 47 # Assumption that Ic = Ie\n",
    "DC_Vce_U6 = DC_VCollector_U6-DC_VEmitter_U6\n",
    "DC_IEmitter_U6_mA = DC_IEmitter_U6 * 1000\n",
    "print(f\"IEmitter: {DC_IEmitter_U6_mA}\")\n",
    "### U6\n",
    "filtered_networks_U6 = find_bounding_networks(\n",
    "\tnetworks,\n",
    "\tvce_target=DC_Vce_U6,\n",
    "\tic_target=DC_IEmitter_U6_mA)\n",
    "U6 = interpolate_2d_network(filtered_networks_U6, DC_Vce_U6, DC_IEmitter_U6_mA, interp_kind='linear')\n",
    "U6_3p_ce = convert_to_3port_with_grounded_emitter(U6)\n",
    "U6_3p_cc = convert_common_emitter_to_common_collector_3port(U6_3p_ce)"
   ]
  },
  {
   "cell_type": "code",
   "execution_count": 6,
   "metadata": {},
   "outputs": [
    {
     "name": "stdout",
     "output_type": "stream",
     "text": [
      "IEmitter: 11.6\n",
      "corners: [(2.5, 10.0, 1), (2.5, 12.0, 1), (3.0, 10.0, 1), (3.0, 12.0, 1)]\n"
     ]
    }
   ],
   "source": [
    "import sys\n",
    "sys.path.insert(0,'../python_libs')\n",
    "from rf_simulations import convert_common_emitter_to_common_base_3port, interpolate_2d_network, convert_to_3port_with_grounded_emitter\n",
    "\n",
    "### Checking DC Operating point (U8)\n",
    "DC_VBase_U8 = 2.6\t\t\t#! SIM VALUE: 3.45 V\n",
    "DC_VEmitter_U8 = 2.32\t\t#! SIM VALUE: 2.64 V\n",
    "DC_VCollector_U8 = 4.88\t\t#! SIM VALUE: 5 V\n",
    "DC_IEmitter_U8 = DC_VEmitter_U8 / 200\n",
    "DC_Vce_U8 = DC_VCollector_U8-DC_VEmitter_U8\n",
    "DC_IEmitter_U8_mA = DC_IEmitter_U8 * 1000\n",
    "print(f\"IEmitter: {DC_IEmitter_U8_mA}\")\n",
    "\n",
    "\n",
    "### U8\n",
    "filtered_networks_U8 = find_bounding_networks(\n",
    "\tnetworks,\n",
    "\tvce_target=DC_Vce_U8,\n",
    "\tic_target=DC_IEmitter_U8_mA)\n",
    "U8 = interpolate_2d_network(filtered_networks_U8, DC_Vce_U8, DC_IEmitter_U8_mA, interp_kind='linear')\n",
    "U8_3p_ce = convert_to_3port_with_grounded_emitter(U8)\n",
    "U8_3p_cb = convert_common_emitter_to_common_base_3port(U8_3p_ce)"
   ]
  },
  {
   "cell_type": "markdown",
   "metadata": {},
   "source": [
    "### Circuit design"
   ]
  },
  {
   "cell_type": "code",
   "execution_count": 10,
   "metadata": {},
   "outputs": [
    {
     "name": "stderr",
     "output_type": "stream",
     "text": [
      "<>:67: SyntaxWarning: 'set' object is not subscriptable; perhaps you missed a comma?\n",
      "<>:67: SyntaxWarning: 'set' object is not subscriptable; perhaps you missed a comma?\n",
      "/home/iwolfs/Work/Projects/rf_lna_project/RF-lna-project/pyenv/lib/python3.12/site-packages/scipy/interpolate/_interpolate.py:479: RuntimeWarning: invalid value encountered in divide\n",
      "  slope = (y_hi - y_lo) / (x_hi - x_lo)[:, None]\n",
      "/tmp/ipykernel_87448/3498127333.py:67: SyntaxWarning: 'set' object is not subscriptable; perhaps you missed a comma?\n",
      "  {(U8, 2, )}\n"
     ]
    },
    {
     "ename": "TypeError",
     "evalue": "unhashable type: 'Network'",
     "output_type": "error",
     "traceback": [
      "\u001b[31m---------------------------------------------------------------------------\u001b[39m",
      "\u001b[31mTypeError\u001b[39m                                 Traceback (most recent call last)",
      "\u001b[36mCell\u001b[39m\u001b[36m \u001b[39m\u001b[32mIn[10]\u001b[39m\u001b[32m, line 67\u001b[39m\n\u001b[32m     57\u001b[39m GND = rf.Circuit.Ground(frequency=freq, name=\u001b[33m'\u001b[39m\u001b[33mGND\u001b[39m\u001b[33m'\u001b[39m, z0=Z0)\n\u001b[32m     60\u001b[39m \u001b[38;5;66;03m#! CIRCUIT\u001b[39;00m\n\u001b[32m     61\u001b[39m connections = [\n\u001b[32m     62\u001b[39m     \u001b[38;5;66;03m# INPUT / MATCHING\u001b[39;00m\n\u001b[32m     63\u001b[39m     [(J5, \u001b[32m0\u001b[39m), (Z2, \u001b[32m0\u001b[39m)],\n\u001b[32m     64\u001b[39m     [(Z2, \u001b[32m1\u001b[39m), (Z4, \u001b[32m0\u001b[39m), (Z20, \u001b[32m0\u001b[39m)],\n\u001b[32m     65\u001b[39m \n\u001b[32m     66\u001b[39m \t\u001b[38;5;66;03m# OUTPUT / MATCHING\u001b[39;00m\n\u001b[32m---> \u001b[39m\u001b[32m67\u001b[39m \t{(U8, \u001b[32m2\u001b[39m, )}\n\u001b[32m     68\u001b[39m \n\u001b[32m     69\u001b[39m \t\u001b[38;5;66;03m# TRANSISTOR CIRCUIT\u001b[39;00m\n\u001b[32m     70\u001b[39m \t[(Z4, \u001b[32m1\u001b[39m), (R11, \u001b[32m0\u001b[39m), (L6, \u001b[32m0\u001b[39m), (U7, \u001b[32m0\u001b[39m)],\n\u001b[32m     71\u001b[39m \t[(Z9, \u001b[32m1\u001b[39m), (J3, \u001b[32m0\u001b[39m)],\n\u001b[32m     72\u001b[39m \n\u001b[32m     73\u001b[39m \t\u001b[38;5;66;03m## U3\u001b[39;00m\n\u001b[32m     74\u001b[39m \t\u001b[38;5;66;03m# Base\u001b[39;00m\n\u001b[32m     75\u001b[39m \t[(Z16, \u001b[32m1\u001b[39m), (R8, \u001b[32m0\u001b[39m), (R3, \u001b[32m0\u001b[39m), (R5, \u001b[32m0\u001b[39m)],\n\u001b[32m     76\u001b[39m \t[(R8, \u001b[32m1\u001b[39m), (U3_3p, \u001b[32m0\u001b[39m)],\n\u001b[32m     77\u001b[39m \n\u001b[32m     78\u001b[39m \t\u001b[38;5;66;03m# Collector \u001b[39;00m\n\u001b[32m     79\u001b[39m \t[(R6, \u001b[32m0\u001b[39m), (Z8, \u001b[32m0\u001b[39m), (U3_3p, \u001b[32m1\u001b[39m)],\n\u001b[32m     80\u001b[39m \n\u001b[32m     81\u001b[39m \t\u001b[38;5;66;03m# Emitter\u001b[39;00m\n\u001b[32m     82\u001b[39m \t[(R7, \u001b[32m0\u001b[39m), (U3_3p, \u001b[32m2\u001b[39m)],\n\u001b[32m     83\u001b[39m \t[(R7, \u001b[32m1\u001b[39m), (R4, \u001b[32m0\u001b[39m), (C6, \u001b[32m0\u001b[39m)],\n\u001b[32m     84\u001b[39m \n\u001b[32m     85\u001b[39m \t\u001b[38;5;66;03m# Biasing circuits\u001b[39;00m\n\u001b[32m     86\u001b[39m \t[(R3, \u001b[32m1\u001b[39m), (L25, \u001b[32m0\u001b[39m)],\n\u001b[32m     87\u001b[39m \t[(R5, \u001b[32m1\u001b[39m), (L27, \u001b[32m0\u001b[39m)],\t\n\u001b[32m     88\u001b[39m \n\u001b[32m     89\u001b[39m \t\u001b[38;5;66;03m# Ground connections\u001b[39;00m\n\u001b[32m     90\u001b[39m \t[(Z20, \u001b[32m1\u001b[39m), (L27, \u001b[32m1\u001b[39m), (R6, \u001b[32m1\u001b[39m), (R4, \u001b[32m1\u001b[39m), (C6, \u001b[32m1\u001b[39m), (Z10, \u001b[32m1\u001b[39m), (GND, \u001b[32m0\u001b[39m)]\n\u001b[32m     91\u001b[39m ]\n",
      "\u001b[31mTypeError\u001b[39m: unhashable type: 'Network'"
     ]
    }
   ],
   "source": [
    "import sys\n",
    "sys.path.insert(0,'../python_libs')\n",
    "from rf_simulations import interpolate_2d_network, convert_to_3port_with_grounded_emitter\n",
    "\n",
    "import skrf as rf\n",
    "import numpy as np\n",
    "from skrf.media import MLine, CPW, DefinedGammaZ0\n",
    "from skrf.circuit import Circuit, Network\n",
    "\n",
    "Z0 = 50\n",
    "f_low, f_high = 860e6, 1200e6 #! Matching range\n",
    "\n",
    "\n",
    "# Create passive components\n",
    "### Transistors\n",
    "U6_3p_cc = U6_3p_cc[f'{f_low}-{f_high}'] # Convert to 3-port with grounded emitter (port 2 -> emitter)\n",
    "U8_3p_cb = U8_3p_cb[f'{f_low}-{f_high}'] # Convert to 3-port with grounded emitter (port 2 -> emitter)\n",
    "U7_3p_ce = U7_3p_ce[f'{f_low}-{f_high}'] # Convert to 3-port with grounded emitter (port 2 -> emitter)\n",
    "\n",
    "freq = U7_3p_ce.frequency  # scikit-rf Frequency object\n",
    "\n",
    "\n",
    "line = DefinedGammaZ0(freq, z0=Z0)\n",
    "\n",
    "\n",
    "### Inductors\n",
    "L5 = line.inductor(160e-9, frequency=freq, name='L5')  # 160nH\n",
    "L6 = line.inductor(160e-9, frequency=freq, name='L6')  # 160nH\n",
    "L9 = line.inductor(160e-9, frequency=freq, name='L9')   # 160nH\n",
    "L12 = line.inductor(160e-9, frequency=freq, name='L12')  # 160nH\n",
    "L13 = line.inductor(160e-9, frequency=freq, name='L13')  # 160nH\n",
    "\n",
    "### Capacitors\n",
    "C7 = line.capacitor(100e-12, frequency=freq, name='C7')   # 100pF\n",
    "C17 = line.capacitor(100e-12, frequency=freq, name='C17')  # 100pF\n",
    "\n",
    "### Resistors\n",
    "R10 = line.resistor(2.2e3, frequency=freq, name='R10')  # 2.2kΩ\n",
    "R11 = line.resistor(1e3, frequency=freq, name='R11')    # 1kΩ\n",
    "R12 = line.resistor(1e3, frequency=freq, name='R12')    # 1kΩ\n",
    "R13 = line.resistor(200, frequency=freq, name='R13')    # 200Ω\n",
    "R14 = line.resistor(0, frequency=freq, name='R14')      # 0Ω\n",
    "R15 = line.resistor(47, frequency=freq, name='R15')     # 47Ω\n",
    "R16 = line.resistor(200, frequency=freq, name='R16')    # 200Ω\n",
    "\n",
    "### Impedances/Transmission lines\n",
    "Z1 = line.capacitor(3.6e-12, frequency=freq, name='Z1')\n",
    "Z2 = line.capacitor(1e-12, frequency=freq, name='Z2')\n",
    "Z4 = line.capacitor(3.6e-12, frequency=freq, name='Z4')\n",
    "Z5 = line.capacitor(3.6e-12, frequency=freq, name='Z5')\n",
    "Z6 = line.inductor(15e-9, frequency=freq, name='Z6')               \n",
    "Z20 = line.inductor(20e-9, frequency=freq, name='Z20')\n",
    "\n",
    "### PORTS\n",
    "J5 = rf.Circuit.Port(frequency=freq, name='J5', z0=Z0)  # Input Port\n",
    "J6 = rf.Circuit.Port(frequency=freq, name='J6', z0=Z0)  # Output Port\n",
    "GND = rf.Circuit.Ground(frequency=freq, name='GND', z0=Z0)\n",
    "\n",
    "\n",
    "#! CIRCUIT\n",
    "connections = [\n",
    "    # INPUT / MATCHING\n",
    "    [(J5, 0), (Z2, 0)],\n",
    "    [(Z2, 1), (Z4, 0), (Z20, 0)],\n",
    "\n",
    "\t# OUTPUT / MATCHING\n",
    "\t{(U8, 2, )}\n",
    "\n",
    "\t# TRANSISTOR CIRCUIT\n",
    "\t[(Z4, 1), (R11, 0), (L6, 0), (U7, 0)],\n",
    "\t[(Z9, 1), (J3, 0)],\n",
    "\n",
    "\t## U3\n",
    "\t# Base\n",
    "\t[(Z16, 1), (R8, 0), (R3, 0), (R5, 0)],\n",
    "\t[(R8, 1), (U3_3p, 0)],\n",
    "\t\n",
    "\t# Collector \n",
    "\t[(R6, 0), (Z8, 0), (U3_3p, 1)],\n",
    "\n",
    "\t# Emitter\n",
    "\t[(R7, 0), (U3_3p, 2)],\n",
    "\t[(R7, 1), (R4, 0), (C6, 0)],\n",
    "\t\n",
    "\t# Biasing circuits\n",
    "\t[(R3, 1), (L25, 0)],\n",
    "\t[(R5, 1), (L27, 0)],\t\n",
    "\n",
    "\t# Ground connections\n",
    "\t[(Z20, 1), (L27, 1), (R6, 1), (R4, 1), (C6, 1), (Z10, 1), (GND, 0)]\n",
    "]"
   ]
  },
  {
   "cell_type": "markdown",
   "metadata": {},
   "source": []
  }
 ],
 "metadata": {
  "kernelspec": {
   "display_name": "pyenv",
   "language": "python",
   "name": "python3"
  },
  "language_info": {
   "codemirror_mode": {
    "name": "ipython",
    "version": 3
   },
   "file_extension": ".py",
   "mimetype": "text/x-python",
   "name": "python",
   "nbconvert_exporter": "python",
   "pygments_lexer": "ipython3",
   "version": "3.12.3"
  }
 },
 "nbformat": 4,
 "nbformat_minor": 2
}
