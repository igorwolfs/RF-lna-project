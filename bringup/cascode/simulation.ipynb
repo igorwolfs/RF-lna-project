{
 "cells": [
  {
   "cell_type": "markdown",
   "metadata": {},
   "source": [
    "# Simulation\n",
    "This notebook will be used to import available S-parameter data from the BFP640 and simulate/verify the LNA behaviour using scikit-RF.\n",
    "The simulation was done after construction, since only then I realized that LTSpice was really not up to this kind-of job."
   ]
  },
  {
   "cell_type": "markdown",
   "metadata": {},
   "source": [
    "### DC Operating point"
   ]
  },
  {
   "cell_type": "code",
   "execution_count": 2,
   "metadata": {},
   "outputs": [
    {
     "name": "stdout",
     "output_type": "stream",
     "text": [
      "VBE - U7 0.36 V, U6 0.24 V, U8 0.28 V\n",
      "VCE - U7 1.32 V, U6 0.76 V, U8 2.56 V\n",
      "IE  - U7 11.06 mA, U6 11.06 mA, U8 11.60 mA\n"
     ]
    }
   ],
   "source": [
    "Vcc = 4.8\n",
    "\n",
    "### Checking DC Operating point (U7)\n",
    "DC_VBase_U7 = 0.88\t\t\t#! SIM VALUE: 1.15 V\n",
    "DC_VEmitter_U7 = 0.52\t\t#! SIM VALUE: 0.36 V\n",
    "DC_VCollector_U7 = 1.84\t\t#! SIM VALUE: 1.54 V\n",
    "DC_IEmitter_U7 = DC_VEmitter_U7 / 47\n",
    "\n",
    "### Checking DC Operating point (U6)\n",
    "DC_VBase_U6 = 2.08\t\t\t#! SIM VALUE: 2.33 V\n",
    "DC_VEmitter_U6 = 1.84\t\t#! SIM VALUE: 1.54 V\n",
    "DC_VCollector_U6 = 2.6\t\t#! SIM VALUE: 1.7 V\n",
    "DC_IEmitter_U6 = DC_IEmitter_U7 # Assumption that Ic = Ie\n",
    "\n",
    "### Checking DC Operating point (U8)\n",
    "DC_VBase_U8 = 2.6\t\t\t#! SIM VALUE: 3.45 V\n",
    "DC_VEmitter_U8 = 2.32\t\t#! SIM VALUE: 2.64 V\n",
    "DC_VCollector_U8 = 4.88\t\t#! SIM VALUE: 5 V\n",
    "DC_IEmitter_U8 = DC_VEmitter_U8 / 200\n",
    "\n",
    "print(f\"VBE - U7 {DC_VBase_U7-DC_VEmitter_U7:.2f} V, U6 {DC_VBase_U6-DC_VEmitter_U6:.2f} V, U8 {DC_VBase_U8-DC_VEmitter_U8:.2f} V\")\n",
    "print(f\"VCE - U7 {DC_VCollector_U7-DC_VEmitter_U7:.2f} V, U6 {DC_VCollector_U6-DC_VEmitter_U6:.2f} V, U8 {DC_VCollector_U8-DC_VEmitter_U8:.2f} V\")\n",
    "print(f\"IE  - U7 {DC_IEmitter_U7*1000:.2f} mA, U6 {DC_IEmitter_U6*1000:.2f} mA, U8 {DC_IEmitter_U8*1000:.2f} mA\")"
   ]
  },
  {
   "cell_type": "markdown",
   "metadata": {},
   "source": []
  }
 ],
 "metadata": {
  "kernelspec": {
   "display_name": "pyenv",
   "language": "python",
   "name": "python3"
  },
  "language_info": {
   "codemirror_mode": {
    "name": "ipython",
    "version": 3
   },
   "file_extension": ".py",
   "mimetype": "text/x-python",
   "name": "python",
   "nbconvert_exporter": "python",
   "pygments_lexer": "ipython3",
   "version": "3.12.3"
  }
 },
 "nbformat": 4,
 "nbformat_minor": 2
}
