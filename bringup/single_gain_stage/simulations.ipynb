{
 "cells": [
  {
   "cell_type": "markdown",
   "metadata": {},
   "source": [
    "# Simulation\n",
    "This notebook will be used to import available S-parameter data from the BFP640 and simulate/verify the single-gain stage behaviour using scikit-RF.\n",
    "\n",
    "The simulation was done after construction, since only then I realized that LTSpice was really not up to this kind-of job."
   ]
  },
  {
   "cell_type": "markdown",
   "metadata": {},
   "source": [
    "### DC Operating point"
   ]
  },
  {
   "cell_type": "code",
   "execution_count": 3,
   "metadata": {},
   "outputs": [
    {
     "name": "stdout",
     "output_type": "stream",
     "text": [
      "VBE - U3 0.44 V\n",
      "VCE - U3 1.36 V\n",
      "IE/IC  - U3 43.40 mA\n"
     ]
    }
   ],
   "source": [
    "### Checking DC Operating point (U3)\n",
    "DC_VBase_U3 = 1.12  \t\t#! SIM VALUE: 1.23 V\n",
    "DC_VEmitter_U3 = 0.68\t\t#! SIM VALUE: 0.436 V\n",
    "DC_VCollector_U3 = 2.04\t\t#! SIM VALUE: 3.15 V\n",
    "DC_IEmitter_U3 = DC_VCollector_U3 / 47\n",
    "\n",
    "print(f\"VBE - U3 {DC_VBase_U3-DC_VEmitter_U3:.2f} V\")\n",
    "print(f\"VCE - U3 {DC_VCollector_U3-DC_VEmitter_U3:.2f} V\")\n",
    "print(f\"IE/IC  - U3 {DC_IEmitter_U3*1000:.2f} mA\")"
   ]
  },
  {
   "cell_type": "markdown",
   "metadata": {},
   "source": []
  },
  {
   "cell_type": "markdown",
   "metadata": {},
   "source": []
  }
 ],
 "metadata": {
  "kernelspec": {
   "display_name": "pyenv",
   "language": "python",
   "name": "python3"
  },
  "language_info": {
   "codemirror_mode": {
    "name": "ipython",
    "version": 3
   },
   "file_extension": ".py",
   "mimetype": "text/x-python",
   "name": "python",
   "nbconvert_exporter": "python",
   "pygments_lexer": "ipython3",
   "version": "3.12.3"
  }
 },
 "nbformat": 4,
 "nbformat_minor": 2
}
