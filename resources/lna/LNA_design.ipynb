{
 "cells": [
  {
   "cell_type": "markdown",
   "id": "ac202d22-4e6b-435b-ab35-300301826cb4",
   "metadata": {},
   "source": [
    "# Transistor choice\n"
   ]
  }
 ],
 "metadata": {
  "kernelspec": {
   "display_name": "Python 3 (ipykernel)",
   "language": "python",
   "name": "python3"
  },
  "language_info": {
   "codemirror_mode": {
    "name": "ipython",
    "version": 3
   },
   "file_extension": ".py",
   "mimetype": "text/x-python",
   "name": "python",
   "nbconvert_exporter": "python",
   "pygments_lexer": "ipython3",
   "version": "3.10.12"
  }
 },
 "nbformat": 4,
 "nbformat_minor": 5
}
