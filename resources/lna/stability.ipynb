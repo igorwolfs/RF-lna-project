{
 "cells": [
  {
   "cell_type": "markdown",
   "id": "8596dfbb-04d8-4110-aaa6-1f67c5cb9053",
   "metadata": {},
   "source": [
    "# Transistor Ic stability\n",
    "For a BJT there exist 3 stability factors, which show temperature-dependent stability of: \n",
    "\n",
    "**Base-emitter voltage:** \\\n",
    "-> $S(V_{be}) = \\partial I_{C} / \\partial V_{BE}$ (decreases 7.5 mV per degree C increase in temperature)\n",
    "\n",
    "**Forward current gain factor:** \\\n",
    "-> $S(\\beta_{F}) = \\partial I_{C} / \\partial \\beta_{F}$ (increases with temperature)\n",
    "\n",
    "**Reverse saturation current:** \\\n",
    "-> $S(I_{CO}) = \\partial I_{C} / \\partial I_{CO}$ (doubles in values for ever 10 degrees C"
   ]
  },
  {
   "cell_type": "markdown",
   "id": "23725460-0002-46bc-81f6-f80fba1e2434",
   "metadata": {},
   "source": [
    "Total effect on the collector current is: \n",
    "\n",
    "$\\delta I_{C} = S(I_{C0}) * \\delta I_{C} + S(V_{BE}) * \\delta V_{BE} + S(\\beta) * \\delta \\beta$"
   ]
  },
  {
   "cell_type": "markdown",
   "id": "c25b1397-1f70-426d-b89b-e1009e9a40d1",
   "metadata": {},
   "source": [
    "### Saturation current\n",
    "<img src=\"images/stability/s_isat.png\" width=200 />"
   ]
  },
  {
   "cell_type": "markdown",
   "id": "cf9ac227-927e-4f31-98db-4e3142be9fdb",
   "metadata": {},
   "source": [
    "(Reverse) saturation current is part of the reverse current in a diode caused by diffusion of minority carriers from the neutral to the depletion region. (Junction voltage-independent) \\\n",
    "A transistor has **2 PN-junctions**, so **2 Is's** with different parameters"
   ]
  },
  {
   "cell_type": "markdown",
   "id": "08587c33-5bbe-49e0-bce0-aa02c1ecab6a",
   "metadata": {},
   "source": [
    "#### Ies - base-emitter reverse saturation current\n",
    "This is the current in a reverse-biased base emitter junction with open collector. So current flowing from the emitter to the base when the base-emitter junction is reverse-biased. \n",
    "#### Ics - base-collector reverse saturation current\n",
    "This is the current in a reverse-biased base-collector junction. So the current flowing from the collector to the base when the collector-base junction is reverse-biased."
   ]
  },
  {
   "cell_type": "markdown",
   "id": "fe174d83-619b-468d-a2e1-daba1d959d3e",
   "metadata": {},
   "source": [
    "#### Leakage Current\n",
    "$I_{CBO}$: is the current that flows over the base-collector junction towards to collector when the base-emitter junction is reverse-biased."
   ]
  },
  {
   "cell_type": "markdown",
   "id": "34696d31-3bbc-4b07-b5dc-3619fb0ae8ff",
   "metadata": {},
   "source": [
    "### Stability factor of the resistor voltage divider"
   ]
  },
  {
   "cell_type": "markdown",
   "id": "6b95f746-7ac6-406a-9be5-f0c6863f0a05",
   "metadata": {},
   "source": [
    "Given: \n",
    "- $V_{B\\_th} = I_{B}*R_{B\\_th} + V_{BE} + I_{E}*R_{E}$\n",
    "- $V_{cc} = I_{C}*R_{C} + V_{BE} + I_{E}*R_{E}$\n",
    "\n",
    "We assume\n",
    "- $I_{C} = \\beta * I_{B} + (\\beta+1) * I_{CO}$\n",
    "    - -> $I_{B} = I_{C} / \\beta - ((\\beta+1)*I_{CO}) / \\beta$\n",
    "- $I_{E} = I_{C} + I_{B} = I_{C} * (\\beta+1)/\\beta - I_{CO}  *(\\beta+1)/ \\beta$\n",
    "\n",
    "\n",
    "And we differentiate the acquired equation to \n",
    "- $I_{CO} => S(I_{CO})$\n",
    "- $V_{BE} => S(V_{BE})$\n",
    "- $\\beta   => S(\\beta)$ "
   ]
  },
  {
   "cell_type": "markdown",
   "id": "abe8b582-ae87-4b09-8d85-f85cb927c5d1",
   "metadata": {},
   "source": [
    "<img src=\"images/stability/s_resulting_eq.png\" width=400 />"
   ]
  },
  {
   "cell_type": "code",
   "execution_count": 19,
   "id": "ece7e5c4-8a95-4800-a769-432b78deb6ce",
   "metadata": {},
   "outputs": [],
   "source": [
    "### INPUTS\n",
    "# Voltage divider parameters\n",
    "R1 = 36.0e3\n",
    "R2 = 5.0e3\n",
    "Re = 1.5e3\n",
    "# Transistor parameter\n",
    "beta = 80.0"
   ]
  },
  {
   "cell_type": "code",
   "execution_count": 22,
   "id": "bdf92e98-ba6b-491d-a87e-a911a0880e17",
   "metadata": {},
   "outputs": [
    {
     "name": "stdout",
     "output_type": "stream",
     "text": [
      "Rth: 4390.243902439024\n",
      "S(ico): 3.79e+00\n"
     ]
    }
   ],
   "source": [
    "### PART 1: ICO\n",
    "Rb = R1*R2 / (R1+R2) # voltage source becomes open-circuit\n",
    "print(f\"Rth: {Rb}\")\n",
    "SICO = (beta+1) * (Rb+Re) / ((beta+1) * Re+Rb)\n",
    "\n",
    "#### RESULTS ###\n",
    "print(f\"S(ico): {SICO:.2e}\")"
   ]
  },
  {
   "cell_type": "code",
   "execution_count": 31,
   "id": "c9bafe6d-6425-4903-b9b4-e798fc3c5107",
   "metadata": {},
   "outputs": [
    {
     "name": "stdout",
     "output_type": "stream",
     "text": [
      "dico: 6.2e-06\n",
      "Ic-change = 2.35e-05\n"
     ]
    }
   ],
   "source": [
    "### Example\n",
    "Ico = 0.2e-6\n",
    "dT = 50\n",
    "# Given a temperature change of 50 degrees\n",
    "dico = (Ico * 2**(dT/10) - Ico)\n",
    "print(f\"dico: {dico}\")\n",
    "print(f\"Ic-change = {dico*SICO:.2e}\")"
   ]
  },
  {
   "cell_type": "markdown",
   "id": "7af5fd3b-2f7b-4cca-9ee2-cde95142647d",
   "metadata": {},
   "source": [
    "#### Stability factor Vbe"
   ]
  },
  {
   "cell_type": "code",
   "execution_count": 17,
   "id": "55bfcdbd-bea0-492f-a66f-a5f7f9a7445c",
   "metadata": {},
   "outputs": [],
   "source": [
    "beta = 80.0\n",
    "# Re\n",
    "Re = 1.5e3\n",
    "# R1, R2\n",
    "R1 = 36.0e3\n",
    "R2 = 5.0e3"
   ]
  },
  {
   "cell_type": "code",
   "execution_count": 33,
   "id": "f8dc4bcf-3b61-4abf-b546-01f734b39bb6",
   "metadata": {},
   "outputs": [
    {
     "name": "stdout",
     "output_type": "stream",
     "text": [
      "S(vbe): -6.35e-04\n"
     ]
    }
   ],
   "source": [
    "### PART 2: SVBE\n",
    "Rb = R1*R2 / (R1+R2) # voltage source becomes open-circuit\n",
    "SVBE = -beta / ((beta+1)*Re+Rb)\n",
    "print(f\"S(vbe): {SVBE:.2e}\")"
   ]
  },
  {
   "cell_type": "markdown",
   "id": "c3df9b95-e98a-4760-b96f-8fa19b97ee23",
   "metadata": {},
   "source": [
    "#### Stability factor based on beta"
   ]
  },
  {
   "cell_type": "code",
   "execution_count": 24,
   "id": "2dd30c8f-f2d4-4a0b-8b89-063e66698304",
   "metadata": {},
   "outputs": [],
   "source": [
    "R1 = 36.0e3\n",
    "R2 = 5.0e3\n",
    "# Re\n",
    "Re = 1.5e3\n",
    "# Temperature change\n",
    "beta_increase_percent = 25.0\n",
    "T1 = 25.0 # degrees celcius\n",
    "T2 = 75.0 # degrees celcius\n",
    "Ico = 0.2e-6\n",
    "Ic = 1e-3"
   ]
  },
  {
   "cell_type": "code",
   "execution_count": 34,
   "id": "1a114a7f-c1c9-4fa2-8100-5735294c5045",
   "metadata": {},
   "outputs": [
    {
     "name": "stdout",
     "output_type": "stream",
     "text": [
      "S(vbe): 4.72e-07\n"
     ]
    }
   ],
   "source": [
    "### PART 3: SBETA\n",
    "Rb = R1*R2 / (R1+R2) # voltage source becomes open-circuit\n",
    "# Calculating Ic1, beta1, beta2\n",
    "# Assuming Ic0 doubles every 10 degrees\n",
    "Ic1 = Ic + Ico\n",
    "Ic2 = Ic + Ico * 2**((T2 - T1) / 10.0)\n",
    "beta1 = beta\n",
    "beta2 = (1+beta_increase_percent/100.0)*beta\n",
    "SBETA = (Ic1 / beta1) * (Re + Rb) / ((beta2+1.0)*Re + Rb)\n",
    "print(f\"S(vbe): {SBETA:.2e}\")"
   ]
  },
  {
   "cell_type": "markdown",
   "id": "a3f0ab61-c360-493a-8a0a-476dcc1c2bdd",
   "metadata": {},
   "source": [
    "> https://uomus.edu.iq/img/lectures21/MUCLecture_2023_12254624.pdf"
   ]
  },
  {
   "cell_type": "markdown",
   "id": "326823d8-2332-485d-85df-de216fdc3bb3",
   "metadata": {},
   "source": [
    "> https://www.guitarscience.net/papers/biasdsgn.pdf?fbclid=IwY2xjawFmBfhleHRuA2FlbQIxMAABHSPOBCmYPgKLiQKKoI5tccN_2RUaM6UeN8_xmuxcTFhfYro8S5DCpbRsHQ_aem_s9CXde_ch--iyMg0ZI2ovg\n",
    "> https://www.physicsforums.com/threads/reverse-saturation-current-and-leakage-current-in-a-bjt.1007875/ \\\n",
    "> (reverse saturation currents) https://alan.ece.gatech.edu/ECE3040/Lectures/Lecture17-BJT%20QualitativeAndPerformParam.pdf\n",
    "> (reverse saturation currents) https://dunham.ece.uw.edu/ee482/Fall02/BJT.pdf"
   ]
  },
  {
   "cell_type": "code",
   "execution_count": null,
   "id": "10291c50-8940-4523-b5aa-d0e1704b259f",
   "metadata": {},
   "outputs": [],
   "source": []
  },
  {
   "cell_type": "markdown",
   "id": "21f54ec4-b319-4857-97f2-04c42cb6419d",
   "metadata": {},
   "source": [
    "# Rollet's stability factor (K-factor)"
   ]
  },
  {
   "cell_type": "markdown",
   "id": "3957477c-293c-4108-86d5-a53648b67f2e",
   "metadata": {},
   "source": []
  }
 ],
 "metadata": {
  "kernelspec": {
   "display_name": "Python 3 (ipykernel)",
   "language": "python",
   "name": "python3"
  },
  "language_info": {
   "codemirror_mode": {
    "name": "ipython",
    "version": 3
   },
   "file_extension": ".py",
   "mimetype": "text/x-python",
   "name": "python",
   "nbconvert_exporter": "python",
   "pygments_lexer": "ipython3",
   "version": "3.10.12"
  }
 },
 "nbformat": 4,
 "nbformat_minor": 5
}
