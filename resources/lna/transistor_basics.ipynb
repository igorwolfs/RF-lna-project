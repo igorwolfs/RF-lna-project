{
 "cells": [
  {
   "cell_type": "markdown",
   "id": "ac202d22-4e6b-435b-ab35-300301826cb4",
   "metadata": {},
   "source": [
    "# Transistor (BJT)-"
   ]
  },
  {
   "cell_type": "markdown",
   "id": "44bee149-efda-48b3-90fa-d6ff31fae6e5",
   "metadata": {},
   "source": [
    "<img src=\"images/transistor/transistor_circuit.png\" width=400 />"
   ]
  },
  {
   "cell_type": "markdown",
   "id": "46642af4-239c-4f8b-bc7a-422373b03a99",
   "metadata": {},
   "source": [
    "# LNA Calculation"
   ]
  },
  {
   "cell_type": "code",
   "execution_count": 2,
   "id": "b570d8ff-64f8-4839-a3d2-69dc4fb567fc",
   "metadata": {},
   "outputs": [],
   "source": [
    "Vcc = 3,3 # 3.3 or 5 V"
   ]
  },
  {
   "cell_type": "markdown",
   "id": "e8b56e1d-f557-4111-acb7-3a9e4a01e740",
   "metadata": {},
   "source": [
    "## Transistor\n",
    "### BFP640"
   ]
  },
  {
   "cell_type": "code",
   "execution_count": 3,
   "id": "96e613a6-bf44-4b28-abb3-beb623c88516",
   "metadata": {},
   "outputs": [],
   "source": [
    "Ib_max = 0.003 # mA\n",
    "Ic_max = 0.050 # mA"
   ]
  },
  {
   "cell_type": "markdown",
   "id": "2ab7a5c0-b864-465f-8e3f-ba4d0749b344",
   "metadata": {},
   "source": [
    "### Step 1: DC-bias condition\n",
    "Make sure you have a few 100 mV across the degeneration resistor.\n",
    "- You then get good bias-stability vs beta-variation\n",
    "\n",
    "Do this by setting up the base-voltage, which will put you in the appropriate amplification range.\n",
    "- This base voltage is dependent on the resistor-divider at the input.\n",
    "- Typically a base voltage of 1-1.5 volts is good."
   ]
  },
  {
   "cell_type": "code",
   "execution_count": 4,
   "id": "7578694c-9dda-4e7a-8261-5affcf9b775e",
   "metadata": {},
   "outputs": [],
   "source": [
    "Vbe = 0.7 # In volts, check Figure 5 showing linearity 0.5 - 0.9 between Vbe and Ic"
   ]
  },
  {
   "cell_type": "markdown",
   "id": "2570dcc5-b842-4939-b45c-e02de2ebca49",
   "metadata": {},
   "source": [
    "### Step 2: Bias-resistors choice\n",
    "These are mostly driven by \n",
    "- Bias current to be driven\n",
    "- Emitter-current to be driven\n",
    "This usually depends on the output impedance\n",
    "- For a large output impedance: large resistors, low current\n",
    "- For a small output impedance: small resistors, high current (to avoid the gain from dropping when connecting the next stage)"
   ]
  },
  {
   "cell_type": "code",
   "execution_count": null,
   "id": "92d67bb3-2c63-4c68-911a-637932933080",
   "metadata": {},
   "outputs": [],
   "source": []
  },
  {
   "cell_type": "markdown",
   "id": "c45fc011-4d54-4e16-8e65-55de532eca5d",
   "metadata": {},
   "source": [
    "### Step 3: Bias voltage at the emitter\n",
    "Middle operating point, where there is no input signal.\n",
    "- Choose this about 0.5 * (Vcc - base voltage)\n",
    "- Make sure you stay away from saturation and cut-off"
   ]
  },
  {
   "cell_type": "code",
   "execution_count": null,
   "id": "427b0b96-5519-41ed-9370-4b3ebd730bcd",
   "metadata": {},
   "outputs": [],
   "source": []
  },
  {
   "cell_type": "markdown",
   "id": "f6a5258b-2235-44ee-97e8-c0909c86379e",
   "metadata": {},
   "source": [
    "### Step 4: Ic choice\n",
    "once we know\n",
    "- Rc\n",
    "- bias-voltage\n",
    "We know our collector current\n",
    "\n",
    "NOTE: The emitter current is basically the same as the collector current."
   ]
  },
  {
   "cell_type": "code",
   "execution_count": null,
   "id": "d03b0b2f-2fd8-42ba-a5b0-548946213a54",
   "metadata": {},
   "outputs": [],
   "source": []
  },
  {
   "cell_type": "markdown",
   "id": "b0688961-9d7f-49de-917c-541093f5c129",
   "metadata": {},
   "source": [
    "### Step 5: Base-biasing voltage divider\n",
    "It's good to have this one independent of Beta (hfe)\n",
    "- So make the base current smaller compared to the the biasing resistors.\n",
    "- Rule of thumb: voltage-divider current more than 10 times the base current.\n",
    "- Trade-off:\n",
    "    - larger resistors: less power loss, less stability and vice-versa\n",
    "    - Smaller resistors: more current -> more power loss -> more bias stability"
   ]
  },
  {
   "cell_type": "code",
   "execution_count": null,
   "id": "1dc262e4-c25c-429c-bd97-cbb81981dbfd",
   "metadata": {},
   "outputs": [],
   "source": []
  },
  {
   "cell_type": "markdown",
   "id": "94885978-008a-492b-9351-79b3d173eba8",
   "metadata": {},
   "source": [
    "### Step 6: Gain calculation\n",
    "- Without emitter bias capacitor: Av = -Vc / Re\n",
    "- With emitter bias capacitor, distortion but higher gain: -Vrc / Vt (Vt, thermal voltage varies with temperature = 25 mV, derivation in source)"
   ]
  },
  {
   "cell_type": "code",
   "execution_count": null,
   "id": "31be8fc1-32ff-45d3-a441-0162bb5951d6",
   "metadata": {},
   "outputs": [],
   "source": []
  },
  {
   "cell_type": "code",
   "execution_count": null,
   "id": "0a7b753d-fd88-466f-9899-907c66bb5fd7",
   "metadata": {},
   "outputs": [],
   "source": []
  },
  {
   "cell_type": "markdown",
   "id": "5a9a0acc-91d8-497e-998e-6ecaf2c245f8",
   "metadata": {},
   "source": [
    "> https://www.youtube.com/watch?v=VWY2WQcKJgk\n",
    "> https://stompboxelectronics.com/resources/common-emitter-amplifier-calculator/\n",
    "> https://www.infineon.com/dgdl/Infineon-BFP640-DS-v03_00-EN.pdf?fileId=5546d462689a790c01690f03a9ca3928"
   ]
  },
  {
   "cell_type": "code",
   "execution_count": null,
   "id": "5ec3a979-9e3a-409c-882e-10e67348eb3d",
   "metadata": {},
   "outputs": [],
   "source": []
  }
 ],
 "metadata": {
  "kernelspec": {
   "display_name": "Python 3 (ipykernel)",
   "language": "python",
   "name": "python3"
  },
  "language_info": {
   "codemirror_mode": {
    "name": "ipython",
    "version": 3
   },
   "file_extension": ".py",
   "mimetype": "text/x-python",
   "name": "python",
   "nbconvert_exporter": "python",
   "pygments_lexer": "ipython3",
   "version": "3.10.12"
  }
 },
 "nbformat": 4,
 "nbformat_minor": 5
}
