{
 "cells": [
  {
   "cell_type": "markdown",
   "id": "1bca4577-0372-4a52-a8f6-ab0d2c95bd54",
   "metadata": {},
   "source": [
    "# Impedance Matching"
   ]
  },
  {
   "cell_type": "code",
   "execution_count": null,
   "id": "0a9c24ea-26a6-4ec9-be7d-9a7d03e1ae69",
   "metadata": {},
   "outputs": [],
   "source": []
  },
  {
   "cell_type": "markdown",
   "id": "b8ed64bb-7857-4a7f-8bd2-dc6f953e209d",
   "metadata": {},
   "source": [
    "> https://www2.lawrence.edu/fast/STONEKIM/COURSES/P220_PS4_Solutions.pdf"
   ]
  },
  {
   "cell_type": "code",
   "execution_count": null,
   "id": "4f99de95-6e91-4469-a028-e32dbc5be3ca",
   "metadata": {},
   "outputs": [],
   "source": []
  }
 ],
 "metadata": {
  "kernelspec": {
   "display_name": "Python 3 (ipykernel)",
   "language": "python",
   "name": "python3"
  },
  "language_info": {
   "codemirror_mode": {
    "name": "ipython",
    "version": 3
   },
   "file_extension": ".py",
   "mimetype": "text/x-python",
   "name": "python",
   "nbconvert_exporter": "python",
   "pygments_lexer": "ipython3",
   "version": "3.10.12"
  }
 },
 "nbformat": 4,
 "nbformat_minor": 5
}
