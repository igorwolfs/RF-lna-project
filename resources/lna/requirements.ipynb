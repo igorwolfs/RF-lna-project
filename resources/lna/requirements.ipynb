{
 "cells": [
  {
   "cell_type": "markdown",
   "id": "1a14d4c3-98a6-4ea7-a45e-e9063777b5e5",
   "metadata": {},
   "source": [
    "# Requirements"
   ]
  },
  {
   "cell_type": "markdown",
   "id": "dd35e73d-24f1-438b-94dd-759e7761f1ca",
   "metadata": {},
   "source": [
    "**Input Power:** -120 to -130 dBm (decibel milli-watts)"
   ]
  },
  {
   "cell_type": "code",
   "execution_count": 1,
   "id": "ee6ffefa-aeeb-4faa-a12d-ae6d10b0970a",
   "metadata": {},
   "outputs": [
    {
     "name": "stdout",
     "output_type": "stream",
     "text": [
      "Input power: 1e-15 W\n",
      "(Usefull signal) V_in: 2.236e-07, I_in 4.472e-09\n"
     ]
    }
   ],
   "source": [
    "import math\n",
    "# 10.log(P_mw / 1 mW) = Pdbm\n",
    "input_power_dbm = -120\n",
    "input_power_watts = (10**(-120/10)) / 1000\n",
    "print(f\"Input power: {input_power_watts} W\")\n",
    "# ASSUMING: antenna impedance of 50 ohms\n",
    "Z_ANTENNA = 50\n",
    "input_current = math.sqrt(input_power_watts / Z_ANTENNA)\n",
    "input_voltage = Z_ANTENNA * input_current\n",
    "print(f\"(Usefull signal) V_in: {input_voltage:.3e}, I_in {input_current:.3e}\")"
   ]
  },
  {
   "cell_type": "markdown",
   "id": "6a5ee6e4-fe67-4b96-85ad-10b00cd8ca2f",
   "metadata": {},
   "source": [
    "**S(2,1):** Small-signal gain, typically about 20 dB"
   ]
  },
  {
   "cell_type": "code",
   "execution_count": 2,
   "id": "4c9746f3-52a9-415c-ac54-26c38b0dc7ca",
   "metadata": {},
   "outputs": [
    {
     "name": "stdout",
     "output_type": "stream",
     "text": [
      "Absolute gain: 100.0\n",
      "Output power: 1e-13 W, -100 dBm\n"
     ]
    }
   ],
   "source": [
    "# S2,1 = 10.log(P_out / P_in)\n",
    "amplifier_db = 20\n",
    "amplifier_gain = 10**(amplifier_db/10)\n",
    "print(f\"Absolute gain: {amplifier_gain}\")\n",
    "output_power_watts = amplifier_gain * input_power_watts\n",
    "output_power_dbm = amplifier_db + input_power_dbm\n",
    "print(f\"Output power: {output_power_watts} W, {output_power_dbm} dBm\")"
   ]
  },
  {
   "cell_type": "markdown",
   "id": "c2f52777-769f-4b6a-af5f-fc2ed3b59e83",
   "metadata": {},
   "source": [
    "**Noise Figure:** 0.8 dB\n",
    "> https://minicircuits.com/app/AN60-040.pdf"
   ]
  },
  {
   "cell_type": "markdown",
   "id": "e28b833e-697d-4cbd-b516-5df3f33461ae",
   "metadata": {},
   "source": [
    "<img src=\"images/requirements/NF.png\" width=400 />"
   ]
  },
  {
   "cell_type": "code",
   "execution_count": 9,
   "id": "c8f5bf45-7048-49c6-9c5d-cac3b78b68e2",
   "metadata": {},
   "outputs": [
    {
     "name": "stdout",
     "output_type": "stream",
     "text": [
      "NF addded on top after LNA: 1.202264434617413\n"
     ]
    }
   ],
   "source": [
    "# NF = 10.log(P_noise / P_in)\n",
    "NF_db = 0.8\n",
    "NF_gain = 10**(NF_db/10)\n",
    "print(f\"NF addded on top after LNA: {NF_gain}\")"
   ]
  },
  {
   "cell_type": "markdown",
   "id": "8a0d9ea9-3d98-4162-beed-dc98334353d9",
   "metadata": {},
   "source": [
    "**IIP3:** -5 .. -9 dBm (Input 3rd order intercept point)\n",
    "- If a fundamental harmonic would come in at this signal strength, and the amplifier was perfectly linear, than it would be theoretically amplified to the same level as the fundamental.\n",
    "- Gain slope of the nrd (e.g.: 3) order product is n (e.g.:3) times the fundamental\n",
    "\n",
    "**OIP3**: The output power when the 3rd order fundamental has an input power of IIP3 \n",
    "\n",
    "**IP1db**: Point at which the output signal is compressed by 1 dB from the ideal input/output function.\n",
    "* Stay away from this point, it indicates growing non-linearity in the LNA gain\n",
    "\n",
    "> https://resources.pcb.cadence.com/blog/2020-distinguishing-iip3-vs-oip3-in-power-amplifiers\n",
    "> https://www.sciencedirect.com/topics/engineering/db-compression-point#:~:text=1%20dB%20Compression%20Point&text=This%20is%20the%20point%20at,increases%20(i.e.%2C%20clipping)."
   ]
  },
  {
   "cell_type": "markdown",
   "id": "6beea853-fd40-4e75-82d7-1c5436a8cc3f",
   "metadata": {},
   "source": [
    "<img src=\"images/requirements/IP3.png\" width=400 />"
   ]
  },
  {
   "cell_type": "code",
   "execution_count": 5,
   "id": "b5e6d772-9851-42e1-97d8-4e536f49a149",
   "metadata": {},
   "outputs": [
    {
     "name": "stdout",
     "output_type": "stream",
     "text": [
      "IIP3: -11 dBm, 7.943282347242814e-05 W\n",
      "IP1db: -19 dBm, 1.2589254117941675e-05 W\n"
     ]
    }
   ],
   "source": [
    "# Linearity of the LNA (third-order intercept point)  10.log(power_out\n",
    "IIP3_db = -11 # in dBm\n",
    "IIP3B_gain = 10**(IIP3_db/10) / 1000 # in W\n",
    "print(f\"IIP3: {IIP3_db} dBm, {IIP3B_gain} W\")\n",
    "IP1_db = -19 # in dBm\n",
    "IP1_gain = 10**(IP1_db/10) / 1000 # in W\n",
    "print(f\"IP1db: {IP1_db} dBm, {IP1_gain} W\")"
   ]
  },
  {
   "cell_type": "markdown",
   "id": "17bed08d-d93e-47c2-8981-e4a14a3e9b28",
   "metadata": {},
   "source": [
    "**S(1,1), S(2,2)**: Input return loss, portion of the input (output) signal power reflected back to the input (output)\n",
    "- Indicates how well the impedance is matched\n",
    "\n",
    "**S(1,2)**: Reverse isolation, portion of the signal from the output power reaching the input port\n",
    "- Indicates how well the input is isolated from the output.\n",
    "\n",
    "(Obviously frequency dependent)"
   ]
  },
  {
   "cell_type": "markdown",
   "id": "fa4f34e7-6d76-4dba-895b-f9132dc45af7",
   "metadata": {},
   "source": [
    "**Frequency-range**: preferably 1-2 GHz. (or narrowband 1.57542 GHz)"
   ]
  },
  {
   "cell_type": "markdown",
   "id": "0f77453a-1ad6-4f2a-a95b-4200b9ad421b",
   "metadata": {},
   "source": [
    "**Power:** silicon-germanium, <1W"
   ]
  },
  {
   "cell_type": "markdown",
   "id": "229d7604-3a83-4c39-9b88-53b09017b9f6",
   "metadata": {},
   "source": [
    "**Ft:** Transistion frqeuency: Frequency at which current gain is 1."
   ]
  },
  {
   "cell_type": "markdown",
   "id": "c9a0df0c-6ddb-41b4-a353-c34b42980bac",
   "metadata": {},
   "source": [
    "**Vce(max)**: Maximum collector-emitter voltage (better be as high as possible for largest possible amplification\\\n",
    "**Vce(1db)**: Vce at the 1-db compression point (better be as high as possible too)\\\n",
    "**Ic(max)**: Determines the voltage drop in series with the BJT emitter and collector.\\\n",
    "**Ccbs:** Collector-base capacitance (increasing it drops the gain and linearity of the LNA)"
   ]
  },
  {
   "cell_type": "code",
   "execution_count": null,
   "id": "acd53ac1-6378-47ab-843a-ad09ca8d94b3",
   "metadata": {},
   "outputs": [],
   "source": []
  },
  {
   "cell_type": "code",
   "execution_count": null,
   "id": "cd73c19f-9eb8-4731-a662-bf110034a863",
   "metadata": {},
   "outputs": [],
   "source": []
  }
 ],
 "metadata": {
  "kernelspec": {
   "display_name": "Python 3 (ipykernel)",
   "language": "python",
   "name": "python3"
  },
  "language_info": {
   "codemirror_mode": {
    "name": "ipython",
    "version": 3
   },
   "file_extension": ".py",
   "mimetype": "text/x-python",
   "name": "python",
   "nbconvert_exporter": "python",
   "pygments_lexer": "ipython3",
   "version": "3.10.12"
  }
 },
 "nbformat": 4,
 "nbformat_minor": 5
}
