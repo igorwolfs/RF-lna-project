{
 "cells": [
  {
   "cell_type": "markdown",
   "id": "1a14d4c3-98a6-4ea7-a45e-e9063777b5e5",
   "metadata": {},
   "source": [
    "# Requirements"
   ]
  },
  {
   "cell_type": "markdown",
   "id": "dd35e73d-24f1-438b-94dd-759e7761f1ca",
   "metadata": {},
   "source": [
    "**Input Power:** -120 to -130 dBm (decibel milli-watts)"
   ]
  },
  {
   "cell_type": "code",
   "execution_count": 22,
   "id": "ee6ffefa-aeeb-4faa-a12d-ae6d10b0970a",
   "metadata": {},
   "outputs": [
    {
     "name": "stdout",
     "output_type": "stream",
     "text": [
      "Input power: 1e-15 W\n"
     ]
    }
   ],
   "source": [
    "# 10.log(P_mw / 1 mW) = Pdbm\n",
    "input_power_dbm = -120\n",
    "input_power_watts = (10**(-120/10)) / 1000\n",
    "print(f\"Input power: {input_power_watts} W\")"
   ]
  },
  {
   "cell_type": "markdown",
   "id": "6a5ee6e4-fe67-4b96-85ad-10b00cd8ca2f",
   "metadata": {},
   "source": [
    "**S(2,1):** Small-signal gain, typically about 20 dB"
   ]
  },
  {
   "cell_type": "code",
   "execution_count": 29,
   "id": "4c9746f3-52a9-415c-ac54-26c38b0dc7ca",
   "metadata": {},
   "outputs": [
    {
     "name": "stdout",
     "output_type": "stream",
     "text": [
      "Absolute gain: 100.0\n",
      "Output power: 1e-13 W, -100 dBm\n"
     ]
    }
   ],
   "source": [
    "# S2,1 = 10.log(P_out / P_in)\n",
    "amplifier_db = 20\n",
    "amplifier_gain = 10**(amplifier_db/10)\n",
    "print(f\"Absolute gain: {amplifier_gain}\")\n",
    "output_power_watts = amplifier_gain * input_power_watts\n",
    "output_power_dbm = amplifier_db + input_power_dbm\n",
    "print(f\"Output power: {output_power_watts} W, {output_power_dbm} dBm\")"
   ]
  },
  {
   "cell_type": "markdown",
   "id": "c2f52777-769f-4b6a-af5f-fc2ed3b59e83",
   "metadata": {},
   "source": [
    "**Noise Figure:** 0.8 dB"
   ]
  },
  {
   "cell_type": "markdown",
   "id": "e28b833e-697d-4cbd-b516-5df3f33461ae",
   "metadata": {},
   "source": [
    "<img src=\"images/NF.png\" width=400 />"
   ]
  },
  {
   "cell_type": "code",
   "execution_count": 42,
   "id": "c8f5bf45-7048-49c6-9c5d-cac3b78b68e2",
   "metadata": {},
   "outputs": [
    {
     "name": "stdout",
     "output_type": "stream",
     "text": [
      "NF gain: 1.202264434617413\n"
     ]
    },
    {
     "ename": "NameError",
     "evalue": "name 'output_power_noise' is not defined",
     "output_type": "error",
     "traceback": [
      "\u001b[0;31m---------------------------------------------------------------------------\u001b[0m",
      "\u001b[0;31mNameError\u001b[0m                                 Traceback (most recent call last)",
      "Cell \u001b[0;32mIn[42], line 5\u001b[0m\n\u001b[1;32m      3\u001b[0m NF_gain \u001b[38;5;241m=\u001b[39m \u001b[38;5;241m10\u001b[39m\u001b[38;5;241m*\u001b[39m\u001b[38;5;241m*\u001b[39m(NF_db\u001b[38;5;241m/\u001b[39m\u001b[38;5;241m10\u001b[39m)\n\u001b[1;32m      4\u001b[0m \u001b[38;5;28mprint\u001b[39m(\u001b[38;5;124mf\u001b[39m\u001b[38;5;124m\"\u001b[39m\u001b[38;5;124mNF gain: \u001b[39m\u001b[38;5;132;01m{\u001b[39;00mNF_gain\u001b[38;5;132;01m}\u001b[39;00m\u001b[38;5;124m\"\u001b[39m)\n\u001b[0;32m----> 5\u001b[0m \u001b[43moutput_power_noise\u001b[49m \u001b[38;5;66;03m#= \u001b[39;00m\n",
      "\u001b[0;31mNameError\u001b[0m: name 'output_power_noise' is not defined"
     ]
    }
   ],
   "source": [
    "# NF = 10.log(P_noise / P_in)\n",
    "NF_db = 0.8\n",
    "NF_gain = 10**(NF_db/10)\n",
    "print(f\"NF gain: {NF_gain}\")\n",
    "output_power_noise =  "
   ]
  },
  {
   "cell_type": "markdown",
   "id": "8a0d9ea9-3d98-4162-beed-dc98334353d9",
   "metadata": {},
   "source": [
    "**IIP3:** -5 .. -9 dBm (Input 3rd order intercept point)\n",
    "- If a fundamental harmonic would come in at this signal strength, and the amplifier was perfectly linear, than it would be theoretically amplified to the same level as the fundamental.\n",
    "- Gain slope of the nrd (e.g.: 3) order product is n (e.g.:3) times the fundamental\n",
    "\n",
    "**OIP3**: The output power when the 3rd order fundamental has an input power of IIP3 \n",
    "\n",
    "**IP1db**: Point at which the output signal is compressed by 1 dB from the ideal input/output function.\n",
    "* Stay away from this point, it indicates growing non-linearity in the LNA gain\n",
    "\n",
    "> https://resources.pcb.cadence.com/blog/2020-distinguishing-iip3-vs-oip3-in-power-amplifiers\n",
    "> https://www.sciencedirect.com/topics/engineering/db-compression-point#:~:text=1%20dB%20Compression%20Point&text=This%20is%20the%20point%20at,increases%20(i.e.%2C%20clipping)."
   ]
  },
  {
   "cell_type": "markdown",
   "id": "6beea853-fd40-4e75-82d7-1c5436a8cc3f",
   "metadata": {},
   "source": [
    "<img src=\"images/IP3.png\" width=400 />"
   ]
  },
  {
   "cell_type": "code",
   "execution_count": 39,
   "id": "b5e6d772-9851-42e1-97d8-4e536f49a149",
   "metadata": {},
   "outputs": [
    {
     "name": "stdout",
     "output_type": "stream",
     "text": [
      "IIP3: -11 dBm, 0.00016595869074375604 W\n",
      "IP1db: -19 dBm, 0.00016595869074375604 W\n"
     ]
    }
   ],
   "source": [
    "# Linearity of the LNA (third-order intercept point)  10.log(power_out\n",
    "IIP3_db = -11 # in dBm\n",
    "IIP3B_gain = 10**(IP3OB_db/10) / 1000 # in W\n",
    "print(f\"IIP3: {IIP3_db} dBm, {IIP3B_gain} W\")\n",
    "IP1_db = -19 # in dBm\n",
    "IP1_gain = 10**(IP3OB_db/10) / 1000 # in W\n",
    "print(f\"IP1db: {IP1_db} dBm, {IP1_gain} W\")"
   ]
  },
  {
   "cell_type": "markdown",
   "id": "17bed08d-d93e-47c2-8981-e4a14a3e9b28",
   "metadata": {},
   "source": [
    "**S(1,1), S(2,2)**: Input return loss, portion of the input (output) signal power reflected back to the input (output)\n",
    "- Indicates how well the impedance is matched\n",
    "\n",
    "**S(1,2)**: Reverse isolation, portion of the signal from the output power reaching the input port\n",
    "- Indicates how well the input is isolated from the output.\n",
    "\n",
    "(Obviously frequency dependent)"
   ]
  },
  {
   "cell_type": "markdown",
   "id": "fa4f34e7-6d76-4dba-895b-f9132dc45af7",
   "metadata": {},
   "source": [
    "**Frequency-range**: preferably 1-2 GHz. (or narrowband 1.57542 GHz)"
   ]
  },
  {
   "cell_type": "markdown",
   "id": "0f77453a-1ad6-4f2a-a95b-4200b9ad421b",
   "metadata": {},
   "source": [
    "**Power:** silicon-germanium, <1W"
   ]
  },
  {
   "cell_type": "code",
   "execution_count": null,
   "id": "06b7524d-ac5d-40a0-b885-e7a1b5caf07a",
   "metadata": {},
   "outputs": [],
   "source": []
  }
 ],
 "metadata": {
  "kernelspec": {
   "display_name": "Python 3 (ipykernel)",
   "language": "python",
   "name": "python3"
  },
  "language_info": {
   "codemirror_mode": {
    "name": "ipython",
    "version": 3
   },
   "file_extension": ".py",
   "mimetype": "text/x-python",
   "name": "python",
   "nbconvert_exporter": "python",
   "pygments_lexer": "ipython3",
   "version": "3.10.12"
  }
 },
 "nbformat": 4,
 "nbformat_minor": 5
}
