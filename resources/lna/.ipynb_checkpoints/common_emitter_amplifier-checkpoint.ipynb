{
 "cells": [
  {
   "cell_type": "markdown",
   "id": "ac202d22-4e6b-435b-ab35-300301826cb4",
   "metadata": {},
   "source": [
    "# Transistor (BJT) Common-emitter amplifier\n",
    "<img src=\"images/transistor/CEA_circuit.png\" width=400 />\n",
    "\n",
    "Example here using BFP640 \n",
    "> https://www.infineon.com/dgdl/Infineon-BFP640-DS-v03_00-EN.pdf?fileId=5546d462689a790c01690f03a9ca3928"
   ]
  },
  {
   "cell_type": "markdown",
   "id": "44bee149-efda-48b3-90fa-d6ff31fae6e5",
   "metadata": {},
   "source": [
    "## DC Operating Point\n",
    "<img src=\"images/transistor/CEA_circuit_DC.png\" width=150 />"
   ]
  },
  {
   "cell_type": "markdown",
   "id": "fd8ba76e-6eaa-415d-b601-fc4dd6c6db8f",
   "metadata": {},
   "source": [
    "### Ebers-Moll model\n",
    "$I_{E} = I_{S} * (exp(V_{BE} / V_{T} - 1))$\n",
    "- With Is the reverse saturation current of the base-emitter diode (10e-15 - 10e-12)"
   ]
  },
  {
   "cell_type": "markdown",
   "id": "f60636ce-e9f4-4af7-839a-007d2a710707",
   "metadata": {},
   "source": [
    "### Choosing Ic bias current\n",
    "- Check ft vs Ic in bipolar transistor datasheet\n",
    "\n",
    "Considerations:\n",
    "- Transistor frequency considerations\n",
    "    - Choose the collector current that shows a near-maximum in f_t (fig 8: 15-40 mA)\n",
    "- Transistor power gain quality considerations\n",
    "    - Choose the max in 3rd order intercept point (fig 9: 15-30 mA)\n",
    "    - Choose the highest power gain f(Ic, f) (fig 14: 15-40 mA)\n",
    "- Noise figure\n",
    "    - Choose the best noise figure: (fig 19, 20, 21: 10-15 mA)\n",
    "    - The lower Ic, the better\n",
    "- Maximum expected signal at input to avoid cutoff or saturation\n",
    "    - Make sure Vce < Vce(sat)\n",
    " \n",
    "**IMPORTANT**: As long as Vce and Ic are kept the same, the gain doesn't vary that much.\n",
    "\n",
    "> https://www.qsl.net/va3iul/Bias/Bias_Circuits_for_RF_Devices.pdf\n",
    "> \n",
    "> http://doctord.dyndns.org/courses/textbooks/JegerBlalock/Pang/Lecture6.pdf"
   ]
  },
  {
   "cell_type": "markdown",
   "id": "75bc58bf-7d03-4fa7-9879-0b6df3960a04",
   "metadata": {},
   "source": [
    "## "
   ]
  },
  {
   "cell_type": "code",
   "execution_count": 84,
   "id": "f00db093-4925-4e5b-b326-73c7d58f6c3f",
   "metadata": {},
   "outputs": [],
   "source": [
    "Vcc = 3.3 # Assume a supply voltage of 3.3 Volts\n",
    "Ic = 10e-3 # Amperes"
   ]
  },
  {
   "cell_type": "code",
   "execution_count": 86,
   "id": "e16c40d6-6101-4d36-90c0-9d95360ddfb3",
   "metadata": {},
   "outputs": [
    {
     "name": "stdout",
     "output_type": "stream",
     "text": [
      "*** FIRST ITERATION ***\n",
      "Vc: 1.65 Ve: 0.49499999999999994 Vce: 1.155\n",
      "Re: 49.49999999999999, Rc: 165.0\n",
      "*** CORRECTION FOR STANDARD R-VALUES ***\n",
      "Re: 51, Rc: 160\n"
     ]
    }
   ],
   "source": [
    "print(\"*** FIRST ITERATION ***\")\n",
    "# Collector voltage is often taken as 0.5 x Vcc\n",
    "Vc = 0.5 * Vcc\n",
    "# Emittter voltage is often taken as 0.1-0.2 x Vcc\n",
    "Ve = 0.15 * Vcc\n",
    "# Vce = Vcc - Vc - Ve\n",
    "Vce = Vcc - Vc - Ve\n",
    "print(f\"Vc: {Vc} Ve: {Ve} Vce: {Vce}\")\n",
    "### Given a current of Ic = 10 mA\n",
    "# Rc\n",
    "Rc = (Vcc - Vc) / Ic\n",
    "# Re\n",
    "Re = Ve / Ic\n",
    "print(f\"Re: {Re}, Rc: {Rc}\")\n",
    "print(\"*** CORRECTION FOR STANDARD R-VALUES ***\")\n",
    "Re_chosen = 51\n",
    "Rc_chosen = 160\n",
    "print(f\"Re: {Re_chosen}, Rc: {Rc_chosen}\")"
   ]
  },
  {
   "cell_type": "markdown",
   "id": "33b940fb-8345-4722-8d44-56d02c76b72f",
   "metadata": {},
   "source": [
    "### Choosing Vbe-bias point\n",
    "Assume that Ib is negligible compared to the currents flowing through R1 and R2 (check assumption afterwards). \\\n",
    "The relationship between Vbe, Ib and Ic should be documented in the datasheet. (fig 5, 6)."
   ]
  },
  {
   "cell_type": "code",
   "execution_count": 61,
   "id": "de5a0a3e-f035-4b63-ae8f-a77ae72912e6",
   "metadata": {},
   "outputs": [],
   "source": [
    "Vbe = 0.8 # For Ic = 10 mA, Ib = 0.05 mA\n",
    "Ib = 0.05e-3\n",
    "Ib_bias_factor = 15 # IR1 / Ib, must be at least 10"
   ]
  },
  {
   "cell_type": "code",
   "execution_count": 76,
   "id": "6bfbdc87-ccfb-426a-87d9-80be4938d565",
   "metadata": {},
   "outputs": [
    {
     "name": "stdout",
     "output_type": "stream",
     "text": [
      "*** FIRST ITERATION ***\n",
      "hfe: 200.0 (approximately)\n",
      "[R1: 2673.333333333333, R2: 1726.6666666666665], [I_bias: 0.00075, I_bias / Ib: 15.0]\n",
      "*** CORRECTION FOR STANDARD R-VALUES ***\n",
      "R1: 2700.0, R2: 1800.0\n"
     ]
    }
   ],
   "source": [
    "print(\"*** FIRST ITERATION ***\")\n",
    "hfe = Ic / Ib\n",
    "print(f\"hfe: {hfe} (approximately)\")\n",
    "# So R1 and R2 ratio\n",
    "Vb = (Vbe + Ve)\n",
    "# Get Ib at Vbe from datasheet (approx)\n",
    "Ir1 = Ib_bias_factor * Ib\n",
    "R1 = (Vcc - Vb) / Ir1\n",
    "# Assume I1 = I2, then Vr1 / Vr2 = Ir1*R1 / Ir2*R2 = R1/R2\n",
    "R1_div_R2 = (Vcc - Vb) / Vb\n",
    "R2 = Vb / Ir1\n",
    "print(f\"[R1: {R1}, R2: {R2}], [I_bias: {Ir1}, I_bias / Ib: {Ir1 / Ib}]\")\n",
    "print(\"*** CORRECTION FOR STANDARD R-VALUES ***\")\n",
    "R1_chosen = 2.7e3\n",
    "R2_chosen = 1.8e3\n",
    "print(f\"R1: {R1_chosen}, R2: {R2_chosen}\")"
   ]
  },
  {
   "cell_type": "code",
   "execution_count": null,
   "id": "f09db32b-f685-4946-8c4c-370fd75b0636",
   "metadata": {},
   "outputs": [],
   "source": []
  },
  {
   "cell_type": "markdown",
   "id": "f5cae151-4ff6-493b-99e6-d24012c9ed3d",
   "metadata": {},
   "source": [
    "## Gain\n",
    "Current through the load:\n",
    "- $I_L = V_C / R_L$\n",
    "- "
   ]
  },
  {
   "cell_type": "markdown",
   "id": "85e60be2-1983-4b20-b56b-b041cd38d046",
   "metadata": {},
   "source": []
  },
  {
   "cell_type": "markdown",
   "id": "a8c16e62-0db1-4029-a541-7ad326d6d863",
   "metadata": {},
   "source": [
    "# Equations"
   ]
  },
  {
   "cell_type": "markdown",
   "id": "334512bb-4b5f-481c-933e-1a1a28b2c2ee",
   "metadata": {},
   "source": [
    "### Given\n",
    "- Vcc: 3.3 V\n",
    "- Vc_q: Quiescent voltage, 0.5 * Vcc to guarantee the largest possible voltage swing\n",
    "- Ic_q: Quiescent collector current (0.25mA-5mA)\n",
    "- Vre_q: 0.1-0.2 * supply voltage for emitter-resistor\n",
    "- Rl: 50 ohms (matched)\n",
    "- Voltage gain: 100\n",
    "- Collector current Ic: 10 mA\n",
    "### Derived\n",
    "- Ie / Ic: as high as possible for max amplification, but still in linear region, max 10 mA\n",
    "- Ib: Ic / beta\n",
    "### To be found\n",
    "- R1, R2, Rc, Re"
   ]
  },
  {
   "cell_type": "code",
   "execution_count": 33,
   "id": "1c9ec491-31c1-4aba-8699-269c5497c2d8",
   "metadata": {},
   "outputs": [],
   "source": [
    "import sympy as sp"
   ]
  },
  {
   "cell_type": "code",
   "execution_count": 30,
   "id": "8e9c199e-89bb-4da0-9cb7-d5a4dc1ff6cd",
   "metadata": {},
   "outputs": [],
   "source": [
    "R1, R2, Re, Rc = sp.symbols('R1 R2 Re Rc', real=True)\n",
    "Vcc, Vbe, Vce = sp.symbols('Vcc Vbe Vce', real=True)\n",
    "hfe = sp.symbols('hfe', real=True)\n",
    "Ic, Ie, Ib, Ir1, Ir2 = sp.symbols('Ic Ie Ib Ir1 Ir2', real=True)"
   ]
  },
  {
   "cell_type": "code",
   "execution_count": 31,
   "id": "101bc397-f127-48ea-95d7-7a91255784f7",
   "metadata": {},
   "outputs": [],
   "source": [
    "### Kirchoff current equations (= 0)\n",
    "# Transistor current relations\n",
    "eq1 = Ic + Ib - Ie\n",
    "eq2 = hfe * Ib - Ie\n",
    "\n",
    "# Base current relation\n",
    "eq3 = Ir1 + Ib - Ir2\n",
    "\n",
    "### Voltage divider equations\n",
    "# Vbe relation\n",
    "eq4 = R2 * Ir2 - (Re * Ie + Vbe)\n",
    "eq5 = Vcc - Rc * Ic - Vce - Re*Ie # Source-drain equation\n",
    "eq6 = Vcc - R1*Ir1 - R2*Ir2 # Divider network"
   ]
  },
  {
   "cell_type": "code",
   "execution_count": 32,
   "id": "cefa466c-dc17-486e-b6c8-462b9e6e96a5",
   "metadata": {},
   "outputs": [
    {
     "data": {
      "text/plain": [
       "{R1: Ic*Rc/Ir1 + (-Vbe + Vce)/Ir1,\n",
       " R2: -Ic*Rc/Ir2 + (Vbe + Vcc - Vce)/Ir2,\n",
       " Re: -Ic*Rc/Ie + (Vcc - Vce)/Ie}"
      ]
     },
     "execution_count": 32,
     "metadata": {},
     "output_type": "execute_result"
    }
   ],
   "source": [
    "subs_dict = {\"Ic\":0.5e-3, \"Vbe\": 0.7, \"Vce\": 2, \"hfe\": 180}\n",
    "\n",
    "sp.solve([eq1, eq2, eq3, eq4, eq5, eq6], (R1, R2, Re, Rc))"
   ]
  },
  {
   "cell_type": "markdown",
   "id": "46642af4-239c-4f8b-bc7a-422373b03a99",
   "metadata": {},
   "source": [
    "# LNA Calculation"
   ]
  },
  {
   "cell_type": "markdown",
   "id": "e8b56e1d-f557-4111-acb7-3a9e4a01e740",
   "metadata": {},
   "source": [
    "## Transistor\n",
    "### BFP640"
   ]
  },
  {
   "cell_type": "code",
   "execution_count": 1,
   "id": "96e613a6-bf44-4b28-abb3-beb623c88516",
   "metadata": {},
   "outputs": [],
   "source": [
    "Ib_max = 3e-3 # A\n",
    "Ic_max = 50e-3 # A\n",
    "# In volts, check Figure 5 showing linearity 0.5 - 0.9 between Vbe and Ic\n",
    "Vbe = 0.7 # Ic:\n",
    "# Optimal Vce voltage: Vce = 2, (Vce = 2V)\n",
    "Vce = 2\n",
    "Vcc = 3.3 # 3.3 or 5 V"
   ]
  },
  {
   "cell_type": "markdown",
   "id": "2ab7a5c0-b864-465f-8e3f-ba4d0749b344",
   "metadata": {},
   "source": [
    "### Step 1: DC-bias condition\n",
    "Make sure you have a few 100 mV across the degeneration resistor.\n",
    "- You then get good bias-stability vs beta-variation\n",
    "\n",
    "Do this by setting up the base-voltage, which will put you in the appropriate amplification range.\n",
    "- This base voltage is dependent on the resistor-divider at the input.\n",
    "- Typically a base voltage of 1-1.5 volts is good."
   ]
  },
  {
   "cell_type": "code",
   "execution_count": 2,
   "id": "7578694c-9dda-4e7a-8261-5affcf9b775e",
   "metadata": {},
   "outputs": [],
   "source": []
  },
  {
   "cell_type": "markdown",
   "id": "2570dcc5-b842-4939-b45c-e02de2ebca49",
   "metadata": {},
   "source": [
    "### Step 2: Bias-resistors choice\n",
    "These are mostly driven by \n",
    "- Bias current to be driven\n",
    "- Emitter-current to be driven\n",
    "This usually depends on the output impedance\n",
    "- For a large output impedance: large resistors, low current\n",
    "- For a small output impedance: small resistors, high current (to avoid the gain from dropping when connecting the next stage)"
   ]
  },
  {
   "cell_type": "code",
   "execution_count": null,
   "id": "92d67bb3-2c63-4c68-911a-637932933080",
   "metadata": {},
   "outputs": [],
   "source": []
  },
  {
   "cell_type": "markdown",
   "id": "c45fc011-4d54-4e16-8e65-55de532eca5d",
   "metadata": {},
   "source": [
    "### Step 3: Bias voltage at the emitter\n",
    "Middle operating point, where there is no input signal.\n",
    "- Choose this about 0.5 * (Vcc - base voltage)\n",
    "- Make sure you stay away from saturation and cut-off"
   ]
  },
  {
   "cell_type": "code",
   "execution_count": null,
   "id": "427b0b96-5519-41ed-9370-4b3ebd730bcd",
   "metadata": {},
   "outputs": [],
   "source": []
  },
  {
   "cell_type": "markdown",
   "id": "f6a5258b-2235-44ee-97e8-c0909c86379e",
   "metadata": {},
   "source": [
    "### Step 4: Ic choice\n",
    "once we know\n",
    "- Rc\n",
    "- bias-voltage\n",
    "We know our collector current\n",
    "\n",
    "NOTE: The emitter current is basically the same as the collector current."
   ]
  },
  {
   "cell_type": "code",
   "execution_count": null,
   "id": "d03b0b2f-2fd8-42ba-a5b0-548946213a54",
   "metadata": {},
   "outputs": [],
   "source": []
  },
  {
   "cell_type": "markdown",
   "id": "b0688961-9d7f-49de-917c-541093f5c129",
   "metadata": {},
   "source": [
    "### Step 5: Base-biasing voltage divider\n",
    "It's good to have this one independent of Beta (hfe)\n",
    "- So make the base current smaller compared to the the biasing resistors.\n",
    "- Rule of thumb: voltage-divider current more than 10 times the base current.\n",
    "- Trade-off:\n",
    "    - larger resistors: less power loss, less stability and vice-versa\n",
    "    - Smaller resistors: more current -> more power loss -> more bias stability"
   ]
  },
  {
   "cell_type": "code",
   "execution_count": null,
   "id": "1dc262e4-c25c-429c-bd97-cbb81981dbfd",
   "metadata": {},
   "outputs": [],
   "source": []
  },
  {
   "cell_type": "markdown",
   "id": "94885978-008a-492b-9351-79b3d173eba8",
   "metadata": {},
   "source": [
    "### Step 6: Gain calculation\n",
    "- Without emitter bias capacitor: Av = -Vc / Re\n",
    "- With emitter bias capacitor, distortion but higher gain: -Vrc / Vt (Vt, thermal voltage varies with temperature = 25 mV, derivation in source)"
   ]
  },
  {
   "cell_type": "code",
   "execution_count": null,
   "id": "31be8fc1-32ff-45d3-a441-0162bb5951d6",
   "metadata": {},
   "outputs": [],
   "source": []
  },
  {
   "cell_type": "code",
   "execution_count": null,
   "id": "0a7b753d-fd88-466f-9899-907c66bb5fd7",
   "metadata": {},
   "outputs": [],
   "source": []
  },
  {
   "cell_type": "markdown",
   "id": "5a9a0acc-91d8-497e-998e-6ecaf2c245f8",
   "metadata": {},
   "source": [
    "> https://www.youtube.com/watch?v=VWY2WQcKJgk\n",
    "> \n",
    "> https://stompboxelectronics.com/resources/common-emitter-amplifier-calculator/\n",
    ">\n",
    "> https://www.infineon.com/dgdl/Infineon-BFP640-DS-v03_00-EN.pdf?fileId=5546d462689a790c01690f03a9ca3928"
   ]
  },
  {
   "cell_type": "code",
   "execution_count": null,
   "id": "5ec3a979-9e3a-409c-882e-10e67348eb3d",
   "metadata": {},
   "outputs": [],
   "source": []
  }
 ],
 "metadata": {
  "kernelspec": {
   "display_name": "Python 3 (ipykernel)",
   "language": "python",
   "name": "python3"
  },
  "language_info": {
   "codemirror_mode": {
    "name": "ipython",
    "version": 3
   },
   "file_extension": ".py",
   "mimetype": "text/x-python",
   "name": "python",
   "nbconvert_exporter": "python",
   "pygments_lexer": "ipython3",
   "version": "3.10.12"
  }
 },
 "nbformat": 4,
 "nbformat_minor": 5
}
