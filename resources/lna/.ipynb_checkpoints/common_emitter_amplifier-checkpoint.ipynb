{
 "cells": [
  {
   "cell_type": "markdown",
   "id": "ac202d22-4e6b-435b-ab35-300301826cb4",
   "metadata": {},
   "source": [
    "# Transistor (BJT) Common-emitter amplifier\n",
    "<img src=\"images/transistor/CEA_circuit.png\" width=400 />\n",
    "\n",
    "Example here using BFP640 \n",
    "> https://www.infineon.com/dgdl/Infineon-BFP640-DS-v03_00-EN.pdf?fileId=5546d462689a790c01690f03a9ca3928"
   ]
  },
  {
   "cell_type": "markdown",
   "id": "44bee149-efda-48b3-90fa-d6ff31fae6e5",
   "metadata": {},
   "source": [
    "# DC Operating Point\n",
    "<img src=\"images/transistor/CEA_circuit_DC.png\" width=150 />"
   ]
  },
  {
   "cell_type": "markdown",
   "id": "fd8ba76e-6eaa-415d-b601-fc4dd6c6db8f",
   "metadata": {},
   "source": [
    "Good basics explanation of emitter follower circuit\n",
    "> https://electronics.stackexchange.com/questions/223527/how-to-choose-voltage-divider-resistors-for-correct-biasing-in-emitter-follower"
   ]
  },
  {
   "attachments": {},
   "cell_type": "markdown",
   "id": "3aa9c172-7db0-4307-987e-8606c93a5993",
   "metadata": {},
   "source": [
    "### Choosing Ic bias current\n",
    "- Check ft vs Ic in bipolar transistor datasheet\n",
    "\n",
    "Considerations:\n",
    "- Transistor frequency considerations\n",
    "    - Choose the collector current that shows a near-maximum in f_t (fig 8: 15-40 mA)\n",
    "- Transistor power gain quality considerations\n",
    "    - Choose the max in 3rd order intercept point (fig 9: 15-30 mA)\n",
    "    - Choose the highest power gain f(Ic, f) (fig 14: 15-40 mA)\n",
    "- Noise figure\n",
    "    - Choose the best noise figure: (fig 19, 20, 21: 10-15 mA)\n",
    "    - The lower Ic, the better\n",
    "- Maximum expected signal at input to avoid cutoff or saturation\n",
    "    - Make sure Vce < Vce(sat)\n",
    " \n",
    "**IMPORTANT**: As long as Vce and Ic are kept the same, the gain doesn't vary that much.\n",
    "\n",
    "> http://doctord.dyndns.org/courses/textbooks/JegerBlalock/Pang/Lecture6.pdf"
   ]
  },
  {
   "cell_type": "markdown",
   "id": "75bc58bf-7d03-4fa7-9879-0b6df3960a04",
   "metadata": {
    "jp-MarkdownHeadingCollapsed": true
   },
   "source": [
    "## Vcc: 3.3 V"
   ]
  },
  {
   "cell_type": "code",
   "execution_count": 39,
   "id": "f00db093-4925-4e5b-b326-73c7d58f6c3f",
   "metadata": {},
   "outputs": [],
   "source": [
    "Vcc = 3.3 # Assume a supply voltage of 3.3 Volts\n",
    "Ic = 5e-3 # Amperes (we could go higher but for these voltages..)"
   ]
  },
  {
   "cell_type": "code",
   "execution_count": 53,
   "id": "e16c40d6-6101-4d36-90c0-9d95360ddfb3",
   "metadata": {},
   "outputs": [
    {
     "name": "stdout",
     "output_type": "stream",
     "text": [
      "*** FIRST ITERATION ***\n",
      "Vc: 1.65, Ve: 0.33\n",
      "Vce: 1.32 should be > Vbe (0.7V-0.8V) in the linear region!\n",
      "Re: 6.6e+01, Rc: 3.3e+02\n",
      "*** CORRECTION FOR STANDARD R-VALUES ***\n"
     ]
    }
   ],
   "source": [
    "print(\"*** FIRST ITERATION ***\")\n",
    "# Collector voltage is often taken as 0.5 x Vcc\n",
    "Vc = 0.5 * Vcc\n",
    "# Emittter voltage is often taken as 0.1-0.2 x Vcc\n",
    "Ve = 0.10 * Vcc\n",
    "# Vce = Vcc - Vc - Ve\n",
    "Vce = Vc - Ve\n",
    "print(f\"Vc: {Vc}, Ve: {Ve}\")\n",
    "print(f\"Vce: {Vce:.2f} should be > Vbe (0.7V-0.8V) in the linear region!\")\n",
    "### Given a current of Ic = 10 mA\n",
    "# Rc\n",
    "Rc = (Vcc - Vc) / Ic\n",
    "# Re\n",
    "Re = Ve / Ic\n",
    "print(f\"Re: {Re:.1e}, Rc: {Rc:.1e}\")\n",
    "print(\"*** CORRECTION FOR STANDARD R-VALUES ***\")"
   ]
  },
  {
   "cell_type": "markdown",
   "id": "33b940fb-8345-4722-8d44-56d02c76b72f",
   "metadata": {},
   "source": [
    "### Choosing Vbe-bias point\n",
    "Assume that Ib is negligible compared to the currents flowing through R1 and R2 (check assumption afterwards). \\\n",
    "The relationship between Vbe, Ib and Ic should be documented in the datasheet. (fig 5, 6)."
   ]
  },
  {
   "cell_type": "code",
   "execution_count": 41,
   "id": "de5a0a3e-f035-4b63-ae8f-a77ae72912e6",
   "metadata": {},
   "outputs": [],
   "source": [
    "Vbe = 0.7 # Should be between 0.7 and 0.8\n",
    "hfe = 150 # Estimate from datasheet"
   ]
  },
  {
   "cell_type": "code",
   "execution_count": 42,
   "id": "b32d06e8-da39-4b0e-a4f7-c32bb07a7655",
   "metadata": {},
   "outputs": [
    {
     "name": "stdout",
     "output_type": "stream",
     "text": [
      "*** FIRST ITERATION ***\n"
     ]
    }
   ],
   "source": [
    "# Previous calculation\n",
    "Vb = Vbe + Ve\n",
    "print(\"*** FIRST ITERATION ***\")\n",
    "# R1/R2 -> Assume I1 = I2, then Vr1 / Vr2 = Ir1*R1 / Ir2*R2 = R1/R2\n",
    "R1_div_R2 = (Vcc - Vb) / Vb"
   ]
  },
  {
   "cell_type": "markdown",
   "id": "0fd76d77-59a1-4a67-a823-d906658fd32b",
   "metadata": {},
   "source": [
    "### Base Bias\n",
    "**Source vs Load resistance**\n",
    "We're dealing with a current-controlled voltage source.\n",
    "- Rs,th = R1 || R2 = Rb\n",
    "- Vs,th\n",
    "- Rl = Re * h21 (seen from the source)\n",
    "  \n",
    "So: \n",
    "- Rs,th << Rl to prevent the source resistance from having too much impact on the circuit.\n",
    "**Power consumption**\n",
    "The power consumed by the voltage divider will be larger in case of a smaller voltage divider"
   ]
  },
  {
   "cell_type": "code",
   "execution_count": 52,
   "id": "6bfbdc87-ccfb-426a-87d9-80be4938d565",
   "metadata": {},
   "outputs": [
    {
     "name": "stdout",
     "output_type": "stream",
     "text": [
      "0.031527395163758805 << 1?? (< 0.05)\n",
      "[R1: 1000, R2: 453.7444933920706]\n",
      "*** CORRECTION FOR STANDARD R-VALUES ***\n"
     ]
    }
   ],
   "source": [
    "# Choose R1, R2 follows\n",
    "R1 = 1000\n",
    "R2 = R1 / R1_div_R2\n",
    "# We want the current Ie to be independent of the load Iload\n",
    "Rth = R1*R2 / (R1+R2)\n",
    "ratio = Rth / (Re * hfe) \n",
    "print(f\"{ratio} << 1?? (< 0.05)\")\n",
    "# Currents\n",
    "Ir1 = (Vcc - Vb) / R1\n",
    "Ir2 = Vb / R2\n",
    "print(f\"[R1: {R1}, R2: {R2}]\")\n",
    "print(\"*** CORRECTION FOR STANDARD R-VALUES ***\")"
   ]
  },
  {
   "cell_type": "markdown",
   "id": "615c98de-f71b-48af-9f88-ac7c53d18010",
   "metadata": {
    "jp-MarkdownHeadingCollapsed": true
   },
   "source": [
    "## Vcc: 5 V"
   ]
  },
  {
   "cell_type": "code",
   "execution_count": 5,
   "id": "c3f9c74f-f2fd-4d80-89e5-f3b4f364ac56",
   "metadata": {},
   "outputs": [],
   "source": [
    "Vcc = 5 # Assume a supply voltage of 3.3 Volts\n",
    "Ic = 10e-3 # Amperes"
   ]
  },
  {
   "cell_type": "code",
   "execution_count": 6,
   "id": "fde0e4e3-43b0-475a-a1c5-a358b0a05f8a",
   "metadata": {},
   "outputs": [
    {
     "name": "stdout",
     "output_type": "stream",
     "text": [
      "*** FIRST ITERATION ***\n",
      "Vc: 2.5, Ve: 0.5\n",
      "Vce: 2.00 should be > Vbe (0.7V-0.8V) in the linear region!\n",
      "Re: 5.0e+01, Rc: 2.5e+02\n",
      "*** CORRECTION FOR STANDARD R-VALUES ***\n"
     ]
    }
   ],
   "source": [
    "print(\"*** FIRST ITERATION ***\")\n",
    "# Collector voltage is often taken as 0.5 x Vcc\n",
    "Vc = 0.5 * Vcc\n",
    "# Emittter voltage is often taken as 0.1-0.2 x Vcc\n",
    "Ve = 0.10 * Vcc\n",
    "# Vce = Vcc - Vc - Ve\n",
    "Vce = Vc - Ve\n",
    "print(f\"Vc: {Vc}, Ve: {Ve}\")\n",
    "print(f\"Vce: {Vce:.2f} should be > Vbe (0.7V-0.8V) in the linear region!\")\n",
    "### Given a current of Ic = 10 mA\n",
    "# Rc\n",
    "Rc = (Vcc - Vc) / Ic\n",
    "# Re\n",
    "Re = Ve / Ic\n",
    "print(f\"Re: {Re:.1e}, Rc: {Rc:.1e}\")\n",
    "print(\"*** CORRECTION FOR STANDARD R-VALUES ***\")"
   ]
  },
  {
   "cell_type": "markdown",
   "id": "9ec75a88-84f0-47ab-a2dc-55efd8eca332",
   "metadata": {
    "jp-MarkdownHeadingCollapsed": true
   },
   "source": [
    "### Base bias"
   ]
  },
  {
   "cell_type": "code",
   "execution_count": 7,
   "id": "0aa6229d-b363-445c-ae03-db3197771f1b",
   "metadata": {},
   "outputs": [],
   "source": [
    "Vbe = 0.7 # For Ic = 10 mA, Ib = 0.05 mA\n",
    "hfe = 150"
   ]
  },
  {
   "cell_type": "code",
   "execution_count": 8,
   "id": "56a861ef-3618-46cc-9b21-7736de9b8e11",
   "metadata": {},
   "outputs": [
    {
     "name": "stdout",
     "output_type": "stream",
     "text": [
      "*** FIRST ITERATION ***\n"
     ]
    }
   ],
   "source": [
    "# Previous calculation\n",
    "Vb = Vbe + Ve\n",
    "print(\"*** FIRST ITERATION ***\")\n",
    "# R1/R2 -> Assume I1 = I2, then Vr1 / Vr2 = Ir1*R1 / Ir2*R2 = R1/R2\n",
    "R1_div_R2 = (Vcc - Vb) / Vb"
   ]
  },
  {
   "cell_type": "code",
   "execution_count": 9,
   "id": "58ff0e84-3247-4ae1-b028-37fb9b0ee6d4",
   "metadata": {},
   "outputs": [
    {
     "name": "stdout",
     "output_type": "stream",
     "text": [
      "0.032 << 1?? (< 0.05)\n",
      "[R1: 1000, R2: 315.7894736842105]\n",
      "*** CORRECTION FOR STANDARD R-VALUES ***\n"
     ]
    }
   ],
   "source": [
    "# Choose R1, R2 follows\n",
    "R1 = 1000\n",
    "R2 = R1 / R1_div_R2\n",
    "# We want the current Ie to be independent of the load Iload\n",
    "Rth = R1*R2 / (R1+R2)\n",
    "ratio = Rth / (Re * hfe) \n",
    "print(f\"{ratio} << 1?? (< 0.05)\")\n",
    "# Currents\n",
    "Ir1 = (Vcc - Vb) / R1\n",
    "Ir2 = Vb / R2\n",
    "print(f\"[R1: {R1}, R2: {R2}]\")\n",
    "print(\"*** CORRECTION FOR STANDARD R-VALUES ***\")"
   ]
  },
  {
   "cell_type": "markdown",
   "id": "a8c16e62-0db1-4029-a541-7ad326d6d863",
   "metadata": {},
   "source": [
    "# Small signal analysis\n",
    "- Voltage sources become open-circuits\n",
    "- Capacitors become short-circuits\n",
    "    - We assume a HF bypass capacitor in parallel to Re\n",
    "    - This allows us to drop Re from the ss-model\n",
    "- Inductors become open-circuits\n",
    "\n",
    "\n",
    "<img src=\"images/transistor/CEA_circuit_AC.png\" width=300 />"
   ]
  },
  {
   "cell_type": "markdown",
   "id": "22dfbc1b-e15f-45ef-8a4c-01c19c47781b",
   "metadata": {},
   "source": [
    "### SS circuit in active region, Z=inf\n",
    "<img src=\"images/transistor/CEA_circuit_AC_tran.png\" width=600 />"
   ]
  },
  {
   "cell_type": "markdown",
   "id": "67522684-dbbf-4e62-9956-8b3cdab000dd",
   "metadata": {},
   "source": [
    "With\n",
    "- $R_{load}$ infinity\n",
    "- $r_{e} = 0.025 / I_{E}$ accounting for Ohmic effects between BE.\n",
    "- $r_{\\pi} = r_e * (\\beta+1)$, the re transformed parallel to the current source\n",
    "> https://users.cecs.anu.edu.au/~Matthew.James/engn2211-2002/notes/bjtnode7.html"
   ]
  },
  {
   "cell_type": "markdown",
   "id": "2da2338d-758c-4efd-b426-fb90235e9e1b",
   "metadata": {},
   "source": [
    "- $G = V_{out} / V_{in} = -R_{C}*i_{c} / i_{b}*r_{\\pi} = -R_{C}*\\beta/r_{pi}$\n",
    "- $r_{in,ss} = R_{B1} || R_{B2} || R_{B3}$\n",
    "- $r_{out,ss} = R_{c}$\n",
    "\n",
    "So the AC-load line becomes:\n",
    "- $i_{c} = -v_{ce} / R_{c}$\n",
    "\n",
    "> https://users.cecs.anu.edu.au/~Matthew.James/engn2211-2002/notes/bjtnode14.html"
   ]
  },
  {
   "cell_type": "markdown",
   "id": "ad67aec9-6aaa-458d-800b-388481e67ebb",
   "metadata": {},
   "source": [
    "## Emitter Follower\n",
    "<img src=\"images/transistor/CEA_circuit_emitter_follower.png\" width=400 />"
   ]
  },
  {
   "cell_type": "markdown",
   "id": "a6e5df28-7cd4-47bb-98ce-49c51898448d",
   "metadata": {},
   "source": [
    "The emitter voltage is equal to the base voltage - Vbe."
   ]
  },
  {
   "cell_type": "markdown",
   "id": "ab2503ea-e201-488c-b81d-54536c509f29",
   "metadata": {},
   "source": [
    "### Biasing\n",
    "Goal: AC-signal needs to be trapped between 0 and Vcc.\n",
    "- Base voltage: Vcc / 2 - calculate voltage divider this way.\n",
    "- Emitter voltage: Base voltage - diode drop"
   ]
  },
  {
   "cell_type": "code",
   "execution_count": 10,
   "id": "318ebced-a8a9-49af-aa5b-7016f3051d45",
   "metadata": {},
   "outputs": [],
   "source": [
    "Vcc_f = 5 # Volts\n",
    "Vbe_f = 0.7 # Volts\n",
    "# min and max possible signal value\n",
    "Vin_min = 0.3\n",
    "Vin_max = Vcc_f"
   ]
  },
  {
   "cell_type": "code",
   "execution_count": 11,
   "id": "eb9b0318-9db2-4dc9-9393-48d4871d14b2",
   "metadata": {},
   "outputs": [],
   "source": [
    "Vb_f = (Vin_max - Vin_min) / 2\n",
    "Ve_f = Vb_f - Vbe_f"
   ]
  },
  {
   "cell_type": "markdown",
   "id": "c172605a-12a0-4c4c-ab45-82c2200a816f",
   "metadata": {},
   "source": [
    "Note:\n",
    "- The divider cicuit R1 || R2 acts as an input impedance -> So keep this limited\n",
    "- The output impedance is related to the input impedance / beta"
   ]
  },
  {
   "cell_type": "code",
   "execution_count": 16,
   "id": "fbd17a3c-04c2-45ba-8332-cf3dbb27c19d",
   "metadata": {},
   "outputs": [
    {
     "name": "stdout",
     "output_type": "stream",
     "text": [
      "R1: 886.7924528301887, R2: 1000.0\n"
     ]
    }
   ],
   "source": [
    "R2_f = 1e3\n",
    "# R1*Ir1 / R2 * Ir2 = (Vcc_f-Vb_f) / Vb_f\n",
    "R1_R2_ratio_f = (Vcc_f-Vb_f) / Vb_f\n",
    "R1_f = R2_f / R1_R2_ratio_f\n",
    "print(f\"R1: {R1_f}, R2: {R2_f}\")"
   ]
  },
  {
   "cell_type": "markdown",
   "id": "bd454d64-aaa2-4853-859b-70a157b23f56",
   "metadata": {},
   "source": [
    "### Emitter current"
   ]
  },
  {
   "cell_type": "markdown",
   "id": "29099de1-4b5b-4e16-9693-e532a86ad55c",
   "metadata": {},
   "source": [
    "Choose Re\n",
    "- Low enough to not burn the transistor"
   ]
  },
  {
   "cell_type": "code",
   "execution_count": 20,
   "id": "cd42f9f6-9f4f-4290-ba43-91db37064025",
   "metadata": {},
   "outputs": [],
   "source": [
    "Ie_f = 10e-3"
   ]
  },
  {
   "cell_type": "code",
   "execution_count": 22,
   "id": "a4f8a736-20be-4112-ba87-976e7a4e32f3",
   "metadata": {},
   "outputs": [
    {
     "name": "stdout",
     "output_type": "stream",
     "text": [
      "Re: 165.0\n"
     ]
    }
   ],
   "source": [
    "Re_f = Ve_f / Ie_f\n",
    "print(f\"Re: {Re_f}\")"
   ]
  },
  {
   "cell_type": "markdown",
   "id": "4ad9150e-78d1-4db0-a3da-864daf346fcf",
   "metadata": {},
   "source": [
    "### Input and output capacitors\n",
    "#### Input capacitor\n",
    "Act like a high-pass filter, through a capacitor and a filter to ground\n",
    "For input capacitance:\n",
    "- Cin, R2\n",
    "- Cin, Beta * Re\n",
    "- Cin, R1 (NOTE: A DC-LEVEL IS ALSO CONSIDERED A \"GROUND\")\n",
    "The capacitor sees all these resistances in parallel.\n",
    "#### Output capacitor\n",
    "Depends on what the load is, since that's the resistor relevant for the RC-calcualtions."
   ]
  },
  {
   "cell_type": "code",
   "execution_count": 38,
   "id": "7d622644-97b3-4a67-ac40-76928d5c6feb",
   "metadata": {},
   "outputs": [],
   "source": [
    "import math\n",
    "beta_f = 300\n",
    "frequency = 20\n",
    "R_l = 50"
   ]
  },
  {
   "cell_type": "code",
   "execution_count": 44,
   "id": "da606599-7c31-44dd-a7f9-7dccd095377d",
   "metadata": {},
   "outputs": [
    {
     "name": "stdout",
     "output_type": "stream",
     "text": [
      "The capacitor sees R_eq: 465.5793476085651 ohms to ground\n",
      "required capacitance: 1.71e-05F\n"
     ]
    }
   ],
   "source": [
    "R_eq = 1/(1/(Re_f*beta_f) + 1/R1_f + 1/R2_f)\n",
    "print(f\"The capacitor sees R_eq: {R_eq} ohms to ground\")\n",
    "omega_rc = 2*math.pi*frequency\n",
    "Cin_f = 1/(omega_rc*R_eq)\n",
    "print(f\"required capacitance: {Cin_f:.2e}F\")"
   ]
  },
  {
   "cell_type": "markdown",
   "id": "eb26e2ee-3472-41f6-a136-ae6310bbe9f5",
   "metadata": {},
   "source": [
    "- Input impedance of the circuit is R1 and R2 in parallel, divided by beta.\n",
    "- We want the load to be large compared to the output impedance (why?)"
   ]
  },
  {
   "cell_type": "code",
   "execution_count": 49,
   "id": "40362dce-aa68-408e-b894-cc31e579f80c",
   "metadata": {},
   "outputs": [
    {
     "name": "stdout",
     "output_type": "stream",
     "text": [
      "R_in: 1.5666666666666669, Cout_f: 1.59e-04\n"
     ]
    }
   ],
   "source": [
    "R_in = (1/(1/R1_f + 1/R2_f)) * (1/beta_f)\n",
    "Cout_f = 1/(2*math.pi*frequency*R_l)\n",
    "print(f\"R_in: {R_in}, Cout_f: {Cout_f:.2e}\")\n",
    "# Why can you view the impedance like that from the capacitor outwards\n",
    "# When can you apply this method? When is it less / not valid\n",
    "# Why does the load need to be large compared to the output impedance?\n",
    "# How does the feedback circuit actually work?\n",
    "# What about the parasitic capacitors in the BJT, how do I model them? \n",
    "# How can I check their impact?"
   ]
  },
  {
   "cell_type": "code",
   "execution_count": null,
   "id": "917c2441-36fa-4c48-90c8-8878422a091e",
   "metadata": {},
   "outputs": [],
   "source": []
  },
  {
   "cell_type": "markdown",
   "id": "37f706f6-0bfd-4cf4-95a0-7dda9fb8df1e",
   "metadata": {},
   "source": [
    "> https://www.youtube.com/watch?v=n_bBF67mqk8&ab_channel=ProfessorCurtisMeyer"
   ]
  },
  {
   "cell_type": "code",
   "execution_count": null,
   "id": "0a7b753d-fd88-466f-9899-907c66bb5fd7",
   "metadata": {},
   "outputs": [],
   "source": [
    "# QUESTIONS\n",
    "# How do these calculations change when a load is added?\n",
    "# How do you do impedance matching with an input and output load?\n",
    "# What is the difference between small and large signal load? \n",
    "# Do we only need to care for small-signal load?\n",
    "# How do I choose the coupling capacitors?"
   ]
  },
  {
   "cell_type": "markdown",
   "id": "5a9a0acc-91d8-497e-998e-6ecaf2c245f8",
   "metadata": {},
   "source": [
    "> https://www.youtube.com/watch?v=VWY2WQcKJgk\n",
    "> \n",
    "> https://stompboxelectronics.com/resources/common-emitter-amplifier-calculator/\n",
    ">\n",
    "> https://www.infineon.com/dgdl/Infineon-BFP640-DS-v03_00-EN.pdf?fileId=5546d462689a790c01690f03a9ca3928"
   ]
  },
  {
   "cell_type": "code",
   "execution_count": null,
   "id": "5ec3a979-9e3a-409c-882e-10e67348eb3d",
   "metadata": {},
   "outputs": [],
   "source": []
  }
 ],
 "metadata": {
  "kernelspec": {
   "display_name": "Python 3 (ipykernel)",
   "language": "python",
   "name": "python3"
  },
  "language_info": {
   "codemirror_mode": {
    "name": "ipython",
    "version": 3
   },
   "file_extension": ".py",
   "mimetype": "text/x-python",
   "name": "python",
   "nbconvert_exporter": "python",
   "pygments_lexer": "ipython3",
   "version": "3.10.12"
  }
 },
 "nbformat": 4,
 "nbformat_minor": 5
}
