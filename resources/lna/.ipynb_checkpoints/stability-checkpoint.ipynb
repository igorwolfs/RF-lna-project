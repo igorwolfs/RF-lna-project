{
 "cells": [
  {
   "cell_type": "markdown",
   "id": "8596dfbb-04d8-4110-aaa6-1f67c5cb9053",
   "metadata": {},
   "source": [
    "# Transistor stability\n",
    "For a BJT there exist 3 stability factors, which show temperature-dependent stability of: \n",
    "\n",
    "**Base-emitter voltage:** \\\n",
    "-> $S(V_{be}) = \\partial I_{C} / \\partial V_{BE}$ (decreases 7.5 mV per degree C increase in temperature)\n",
    "\n",
    "**Forward current gain factor:** \\\n",
    "-> $S(\\beta_{F}) = \\partial I_{C} / \\partial \\beta_{F}$ (increases with temperature)\n",
    "\n",
    "**Reverse saturation current:** \\\n",
    "-> $S(I_{CO}) = \\partial I_{C} / \\partial I_{CO}$ (doubles in values for ever 10 degrees C"
   ]
  },
  {
   "cell_type": "markdown",
   "id": "23725460-0002-46bc-81f6-f80fba1e2434",
   "metadata": {},
   "source": [
    "Total effect on the collector current is: \n",
    "\n",
    "$\\delta I_{C} = S(I_{C0}) * \\delta I_{C} + S(V_{BE}) * \\delta V_{BE} + S(\\beta) * \\delta \\beta$"
   ]
  },
  {
   "cell_type": "markdown",
   "id": "c25b1397-1f70-426d-b89b-e1009e9a40d1",
   "metadata": {},
   "source": [
    "### Saturation current\n",
    "<img src=\"images/stability/s_isat.png\" width=300 />"
   ]
  },
  {
   "cell_type": "markdown",
   "id": "cf9ac227-927e-4f31-98db-4e3142be9fdb",
   "metadata": {},
   "source": [
    "(Reverse) saturation current is part of the reverse current in a diode caused by diffusion of minority carriers from the neutral to the depletion region. (Junction voltage-independent) \\\n",
    "A transistor has **2 PN-junctions**, so **2 Is's** with different parameters"
   ]
  },
  {
   "cell_type": "markdown",
   "id": "08587c33-5bbe-49e0-bce0-aa02c1ecab6a",
   "metadata": {},
   "source": [
    "#### Ies - base-emitter reverse saturation current\n",
    "This is the current in a reverse-biased base emitter junction with open collector. So current flowing from the emitter to the base when the base-emitter junction is reverse-biased. \n",
    "#### Ics - base-collector reverse saturation current\n",
    "This is the current in a reverse-biased base-collector junction. So the current flowing from the collector to the base when the collector-base junction is reverse-biased."
   ]
  },
  {
   "cell_type": "markdown",
   "id": "fe174d83-619b-468d-a2e1-daba1d959d3e",
   "metadata": {},
   "source": [
    "### Leakage Current\n",
    "$I_{CBO}$: is the current that flows over the base-collector junction towards to collector when the base-emitter junction is reverse-biased. (Should normally be zero, that's why it's called leakage)"
   ]
  },
  {
   "cell_type": "markdown",
   "id": "18eb4a34-7ae6-4ce4-80b6-ca5fed02eb5a",
   "metadata": {},
   "source": [
    "## $S(I_{C0})$\n",
    "Collector current: \\\n",
    "$I_{C} = \\beta * I_{\\beta} + (1+ \\beta) * I_{CO}$\\\n",
    "Taking derivative to Ic and reorganizing gives us:\\\n",
    "$S = \\partial I_{C} / \\partial I_{CO} = (1+\\beta) / (1-\\beta * \\partial I_{B} / \\partial I_{C})$\n",
    "### Stability factor S\n",
    "$\\partial I_{B} / \\partial I_{C} > 0$, Collector current increase (decrease) -> Base current increases (decreases)"
   ]
  },
  {
   "cell_type": "markdown",
   "id": "34696d31-3bbc-4b07-b5dc-3619fb0ae8ff",
   "metadata": {},
   "source": [
    "### Stability factor of the resistor voltage divider"
   ]
  },
  {
   "cell_type": "code",
   "execution_count": 1,
   "id": "ef131e32-3187-44e7-a0c0-68c5d671a6ea",
   "metadata": {},
   "outputs": [],
   "source": [
    "R1 = 2000\n",
    "R2 = 3000\n",
    "Vcc = 5\n",
    "R_th = R1*R2 / (R1+R2) # voltage source becomes open-circuit\n",
    "V_th = (R2 / (R1 + R2)) * Vcc"
   ]
  },
  {
   "cell_type": "markdown",
   "id": "6b95f746-7ac6-406a-9be5-f0c6863f0a05",
   "metadata": {},
   "source": [
    "Given: \\\n",
    "$V_{B\\_th} = I_{B}*R_{B\\_th} + V_{BE} + I_{E}*R_{E}$\n",
    "\n",
    "We assume\n",
    "- $I_{B} = I_{C} / \\beta$\n",
    "- $I_{E} = I_{C} + I_{B} = I_{C}$ (assume $I_{B}$ small)\n",
    "\n",
    "$V_{B\\_th} = I_{C}*R_{B\\_th} / \\beta + V_{BE} + I_{C}*R_{E}$"
   ]
  },
  {
   "cell_type": "code",
   "execution_count": null,
   "id": "1a114a7f-c1c9-4fa2-8100-5735294c5045",
   "metadata": {},
   "outputs": [],
   "source": []
  },
  {
   "cell_type": "markdown",
   "id": "326823d8-2332-485d-85df-de216fdc3bb3",
   "metadata": {},
   "source": [
    "> https://www.guitarscience.net/papers/biasdsgn.pdf?fbclid=IwY2xjawFmBfhleHRuA2FlbQIxMAABHSPOBCmYPgKLiQKKoI5tccN_2RUaM6UeN8_xmuxcTFhfYro8S5DCpbRsHQ_aem_s9CXde_ch--iyMg0ZI2ovg\n",
    "> https://uomus.edu.iq/img/lectures21/MUCLecture_2023_12254624.pdf\n",
    "> https://www.physicsforums.com/threads/reverse-saturation-current-and-leakage-current-in-a-bjt.1007875/ \\\n",
    "> (reverse saturation currents) https://alan.ece.gatech.edu/ECE3040/Lectures/Lecture17-BJT%20QualitativeAndPerformParam.pdf\n",
    "> (reverse saturation currents) https://dunham.ece.uw.edu/ee482/Fall02/BJT.pdf"
   ]
  },
  {
   "cell_type": "code",
   "execution_count": null,
   "id": "10291c50-8940-4523-b5aa-d0e1704b259f",
   "metadata": {},
   "outputs": [],
   "source": []
  },
  {
   "cell_type": "markdown",
   "id": "21f54ec4-b319-4857-97f2-04c42cb6419d",
   "metadata": {},
   "source": [
    "# Rollet's stability factor (K-factor)"
   ]
  },
  {
   "cell_type": "markdown",
   "id": "3957477c-293c-4108-86d5-a53648b67f2e",
   "metadata": {},
   "source": []
  }
 ],
 "metadata": {
  "kernelspec": {
   "display_name": "Python 3 (ipykernel)",
   "language": "python",
   "name": "python3"
  },
  "language_info": {
   "codemirror_mode": {
    "name": "ipython",
    "version": 3
   },
   "file_extension": ".py",
   "mimetype": "text/x-python",
   "name": "python",
   "nbconvert_exporter": "python",
   "pygments_lexer": "ipython3",
   "version": "3.10.12"
  }
 },
 "nbformat": 4,
 "nbformat_minor": 5
}
